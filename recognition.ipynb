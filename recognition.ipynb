{
 "cells": [
  {
   "cell_type": "code",
   "execution_count": 1,
   "id": "4d4e0750",
   "metadata": {},
   "outputs": [],
   "source": [
    "import sys\n",
    "from check_calibration.ProbabilityIntegralTransfer import prob_integ_xfer\n",
    "import numpy as np\n",
    "from pprint import pprint\n",
    "import matplotlib\n",
    "import matplotlib.pyplot as plt\n",
    "import os\n",
    "import pickle as pk\n",
    "import random\n",
    "\n",
    "import os, sys\n",
    "import check_calibration.utils as utils\n",
    "import numpy as np\n",
    "from sklearn.model_selection import StratifiedKFold\n",
    "from sklearn.ensemble import RandomForestClassifier\n",
    "from sklearn.metrics import f1_score, classification_report, accuracy_score\n",
    "from concurrent.futures import ProcessPoolExecutor"
   ]
  },
  {
   "cell_type": "code",
   "execution_count": 2,
   "id": "36c2f41c",
   "metadata": {},
   "outputs": [],
   "source": [
    "\n",
    "def rf(X_vir, y_vir, X_real, y_real, save, proportion, portion_vir, exp_protocol\n",
    "       , model_mode, frame_size_seconds, step_size_seconds):\n",
    "\n",
    "#     print(X_vir.shape)\n",
    "#     print(X_real.shape)\n",
    "\n",
    "    '''\n",
    "    Sliding Window\n",
    "    '''\n",
    "\n",
    "#     frame_size_seconds = 1\n",
    "#     step_size_seconds = 0.5\n",
    "    ecdf_num = 15\n",
    "    sampling_rate = 20\n",
    "    n_estimators = 25\n",
    "\n",
    "    frame_size = int(frame_size_seconds * sampling_rate)\n",
    "    step_size = int(step_size_seconds * sampling_rate)\n",
    "    \n",
    "    \n",
    "    ''' vir sliding window'''\n",
    "    X_vir_win = utils.sliding_window(X_vir,\n",
    "          (frame_size, X_vir.shape[1]),\n",
    "          (step_size, 1))\n",
    "\n",
    "    y_vir_win = np.asarray([\n",
    "      [i[-1]] for i in utils.sliding_window(\n",
    "        y_vir, \n",
    "        frame_size, \n",
    "        step_size)])\n",
    "    y_vir_win = y_vir_win.reshape(len(y_vir_win)).astype(np.uint8)\n",
    "    \n",
    "    \n",
    "    ''' vir feature extraction'''\n",
    "    \n",
    "    _feat = utils.ecdfRep(X_vir_win[0], components=ecdf_num)\n",
    "    X_vir_feat = np.empty((X_vir_win.shape[0], _feat.shape[0]))\n",
    "    for i in range(X_vir_win.shape[0]):\n",
    "      X_vir_feat[i] = utils.ecdfRep(X_vir_win[i], components=ecdf_num)\n",
    "    \n",
    "    \n",
    "    \n",
    "# randomly select percent of vir data \n",
    "#     portion_vir = 1\n",
    "    ys = np.unique(y_vir_win)\n",
    "\n",
    "    X_real_por = np.empty(X_vir_feat.shape)\n",
    "    y_real_por = np.empty(y_vir_win.shape)\n",
    "\n",
    "    i_start = 0\n",
    "    for y in ys:\n",
    "      idx_y = y_vir_win == y\n",
    "      num_por = int(np.sum(idx_y)*portion_vir)\n",
    "\n",
    "      X_real_y = X_vir_feat[idx_y]\n",
    "      y_real_y = y_vir_win[idx_y]\n",
    "\n",
    "      #shuffle the array so it contains data from all participant \n",
    "\n",
    "      random.shuffle(X_real_y)\n",
    "      random.shuffle(y_real_y)  \n",
    "\n",
    "      X_real_por[i_start:i_start+num_por] = X_real_y[:num_por]\n",
    "      y_real_por[i_start:i_start+num_por] = y_real_y[:num_por]\n",
    "\n",
    "      i_start += num_por\n",
    "\n",
    "    X_vir_feat = X_real_por[:i_start]\n",
    "    y_vir_win = y_real_por[:i_start]\n",
    "\n",
    "    print (f'portion {portion_vir}:', X_vir_feat.shape, y_vir_win.shape)\n",
    "\n",
    "    \n",
    "    list_f1_score = []\n",
    "    #leave 1 out cross val\n",
    "    list_acc = []\n",
    "    f1_per_cls = np.zeros((len(np.unique(y_real[0])), len(y_real)))\n",
    "    print(f1_per_cls.shape)\n",
    "    idx =0\n",
    "    for per in range(len(X_real)):\n",
    "        X_real_test = X_real[per]\n",
    "        y_real_test = y_real[per]\n",
    "        \n",
    "        \n",
    "        #concatenate all training data from all training subjects \n",
    "        X_real_train = None\n",
    "        y_real_train = None\n",
    "        for j in range(len(X_real)):\n",
    "            if j == per:\n",
    "                    continue \n",
    "            for cls_idx in np.unique(y_real[0]):\n",
    "                # get index of cls in a subject\n",
    "                cls_idx_all = np.where(y_real[j] == cls_idx)[0]\n",
    "                X_real_cls = X_real[j][cls_idx_all]\n",
    "                y_real_cls = y_real[j][cls_idx_all]\n",
    "                \n",
    "                if X_real_train is None:\n",
    "                    X_real_train = X_real_cls\n",
    "                    y_real_train = y_real_cls\n",
    "                else:\n",
    "                    X_real_train = np.vstack((X_real_train, X_real_cls))\n",
    "                    y_real_train = np.concatenate((y_real_train, y_real_cls))\n",
    "\n",
    "        \n",
    "        X_copy = X_real_train.copy()\n",
    "        y_copy = y_real_train.copy()\n",
    "        X_real_train = None\n",
    "        y_real_train = None\n",
    "        for cls_idx in np.unique(y_real[0]):\n",
    "            cls_idx_all = np.where(y_copy == cls_idx)[0]\n",
    "            X_real_cls = X_copy[cls_idx_all]\n",
    "            y_real_cls = y_copy[cls_idx_all]\n",
    "\n",
    "            if X_real_train is None:\n",
    "                X_real_train = X_real_cls\n",
    "                y_real_train = y_real_cls\n",
    "            else:\n",
    "                X_real_train = np.vstack((X_real_train, X_real_cls))\n",
    "                y_real_train = np.concatenate((y_real_train, y_real_cls))\n",
    "#        print(y_real_train)\n",
    "\n",
    "        ''' real sliding window'''\n",
    "        X_real_win_train = utils.sliding_window(X_real_train,\n",
    "              (frame_size, X_real_train.shape[1]),\n",
    "              (step_size, 1))\n",
    "\n",
    "        y_real_win_train = np.asarray([\n",
    "          [i[-1]] for i in utils.sliding_window(\n",
    "            y_real_train, \n",
    "            frame_size, \n",
    "            step_size)])\n",
    "        y_real_win_train = y_real_win_train.reshape(len(y_real_win_train)).astype(np.uint8)\n",
    "        \n",
    "        \"real test\"\n",
    "        X_real_win_test = utils.sliding_window(X_real_test,\n",
    "              (frame_size, X_real_test.shape[1]),\n",
    "              (step_size, 1))\n",
    "\n",
    "        y_real_win_test = np.asarray([\n",
    "          [i[-1]] for i in utils.sliding_window(\n",
    "            y_real_test, \n",
    "            frame_size, \n",
    "            step_size)])\n",
    "        y_real_win_test = y_real_win_test.reshape(len(y_real_win_test)).astype(np.uint8)\n",
    "\n",
    "        ''' real feature extraction'''\n",
    "        _feat = utils.ecdfRep(X_real_win_train[0], components=ecdf_num)\n",
    "        X_real_feat_train = np.empty((X_real_win_train.shape[0], _feat.shape[0]))\n",
    "        for i in range(X_real_win_train.shape[0]):\n",
    "            X_real_feat_train[i] = utils.ecdfRep(X_real_win_train[i], components=ecdf_num)\n",
    "            \n",
    "        _feat = utils.ecdfRep(X_real_win_test[0], components=ecdf_num)\n",
    "        X_real_feat_test = np.empty((X_real_win_test.shape[0], _feat.shape[0]))\n",
    "        for i in range(X_real_win_test.shape[0]):\n",
    "            X_real_feat_test[i] = utils.ecdfRep(X_real_win_test[i], components=ecdf_num)\n",
    "\n",
    "        '''\n",
    "        Experiment\n",
    "        '''\n",
    "        #for i in range(len(portion_val)):\n",
    "        portion = proportion\n",
    "\n",
    "        #exp_protocol = 'real' # real / vir / real+vir\n",
    "\n",
    "        X_real_train, y_real_train = X_real_feat_train, y_real_win_train\n",
    "        X_real_test, y_real_test = X_real_feat_test, y_real_win_test\n",
    "        \n",
    "        if model_mode == '_complex':\n",
    "            clf = RandomForestClassifier(n_estimators=n_estimators)\n",
    "        elif model_mode == '_simple':\n",
    "            clf = RandomForestClassifier(n_estimators=50, max_depth=10, min_samples_split=5, min_samples_leaf=2, \n",
    "                                         max_features='sqrt', max_leaf_nodes=10)\n",
    "        else: \n",
    "            assert False, model_mode\n",
    "\n",
    "        ''' portion real '''\n",
    "        if portion == 1.:\n",
    "            X_real_por = X_real_train\n",
    "            y_real_por = y_real_train\n",
    "        else:\n",
    "            ys = np.unique(y_real_train)\n",
    "\n",
    "            X_real_por = np.empty(X_real_train.shape)\n",
    "            y_real_por = np.empty(y_real_train.shape)\n",
    "\n",
    "            i_start = 0\n",
    "            for y in ys:\n",
    "              idx_y = y_real_train == y\n",
    "              num_por = int(np.sum(idx_y)*portion)\n",
    "\n",
    "              X_real_y = X_real_train[idx_y]\n",
    "              y_real_y = y_real_train[idx_y]\n",
    "                \n",
    "              #shuffle the array so it contains data from all participant \n",
    "            \n",
    "              random.shuffle(X_real_y)\n",
    "              random.shuffle(y_real_y)  \n",
    "                \n",
    "              X_real_por[i_start:i_start+num_por] = X_real_y[:num_por]\n",
    "              y_real_por[i_start:i_start+num_por] = y_real_y[:num_por]\n",
    "\n",
    "              i_start += num_por\n",
    "\n",
    "            X_real_por = X_real_por[:i_start]\n",
    "            y_real_por = y_real_por[:i_start]\n",
    "\n",
    "        print (f'portion {portion}:', X_real_por.shape, y_real_por.shape)\n",
    "\n",
    "        print (exp_protocol)\n",
    "        if exp_protocol == 'real':\n",
    "            ''' train only with real '''\n",
    "            X_train = X_real_por\n",
    "            y_train = y_real_por\n",
    "        elif exp_protocol == 'vir':\n",
    "            ''' train only with vir '''\n",
    "            X_train = X_vir_feat.copy()\n",
    "            y_train = y_vir_win.copy()\n",
    "        elif exp_protocol == 'real+vir':\n",
    "            X_train = np.concatenate([X_real_por, X_vir_feat])\n",
    "            y_train = np.concatenate([y_real_por, y_vir_win])\n",
    "        else:\n",
    "            assert False, exp_protocol\n",
    "\n",
    "        ''' standardize '''\n",
    "        X_mean = np.mean(X_train, axis=0).reshape((1,-1))\n",
    "        X_std = np.mean(X_train, axis=0).reshape((1,-1))\n",
    "        X_train -= X_mean\n",
    "        X_train /= X_std\n",
    "        X_real_test -= X_mean\n",
    "        X_real_test /= X_std\n",
    "\n",
    "        clf.fit(X_train,y_train)\n",
    "\n",
    "        pred_test = clf.predict(X_real_test)\n",
    "\n",
    "        f1 = f1_score(y_real_test, pred_test, average='macro')\n",
    "        report = classification_report(y_real_test, pred_test, output_dict=True)\n",
    "        print(f1)\n",
    "        #training f1\n",
    "        training_f1 = f1_score(y_train, clf.predict(X_train), average='macro')\n",
    "        print(f'training f1: {training_f1}')\n",
    "        \n",
    "        acc = accuracy_score(y_real_test, pred_test)\n",
    "#         print(acc)  \n",
    "#         print(report.keys())\n",
    "        labels = list(report.keys())[:-3]\n",
    "        \n",
    "        for i in (labels):\n",
    "# #             print(int(i))\n",
    "#             if f'{i}' in report.keys():\n",
    "#                 f1_per_cls[int(i)][idx] += report[f'{i}']['f1-score']\n",
    "#             else:\n",
    "#                 print(int(i))\n",
    "             f1_per_cls[int(float(i))][idx] +=  report[i]['f1-score']\n",
    "        list_acc.append(acc)\n",
    "        list_f1_score.append(f1)\n",
    "        idx +=1\n",
    "\n",
    "    print(list_f1_score)\n",
    "    print (np.mean(list_f1_score))\n",
    "\n",
    "    return np.array(list_f1_score), f1_per_cls"
   ]
  },
  {
   "cell_type": "code",
   "execution_count": 56,
   "id": "44c75a4d",
   "metadata": {},
   "outputs": [
    {
     "name": "stdout",
     "output_type": "stream",
     "text": [
      "(82875,)\n",
      "14\n",
      "14\n"
     ]
    }
   ],
   "source": [
    "#load real and vir data \n",
    "\n",
    "# sub_array = np.array(([0,1,-1])).astype(int)\n",
    "loc = 'all_loc'\n",
    "data_dir = 'data/usc-had_50'\n",
    "ik_mode = \"_ik\"\n",
    "noise_mode = ''\n",
    "model_mode = '_complex'\n",
    "\n",
    "portion_val = np.arange(11)/10\n",
    "portion_val[0] = 0.05\n",
    "result_low = np.zeros(11)\n",
    "save = '/f1_per_cls_mix_low_0.1.txt'\n",
    "\n",
    "file_vir = f'{data_dir}/resized_{loc}_cal{ik_mode}{noise_mode}.npz'\n",
    "# file_vir = f'data/realworld_50/resized_{loc}_cal{ik_mode}{noise_mode}.npz'\n",
    "Xy_vir = np.load(file_vir)\n",
    "X_vir = Xy_vir['x']\n",
    "y_vir = Xy_vir['y'].astype(int)\n",
    "print(y_vir.shape)\n",
    "\n",
    "Xy_real = pk.load(open(f\"{data_dir}/real_{loc}.p\",'rb'))\n",
    "# Xy_real = pk.load(open(f\"{data_dir}/real_{loc}_sync.p\",'rb'))\n",
    "X_real = Xy_real[0]\n",
    "y_real = Xy_real[1]\n",
    "\n",
    "print(len(X_real))\n",
    "\n",
    "for i in range(len(X_real)):\n",
    "    X_real[i] = np.array(X_real[i])\n",
    "    y_real[i] = np.array(y_real[i]).astype(int)\n",
    "#     print(X_real[i].shape)\n",
    "#     print(np.unique(y_real[i]))\n",
    "# X_real = [X_real[i] for i in sub_array]\n",
    "# y_real = [y_real[i] for i in sub_array]   \n",
    "print(len(X_real))\n",
    "    "
   ]
  },
  {
   "cell_type": "code",
   "execution_count": 23,
   "id": "74c52140",
   "metadata": {
    "collapsed": true
   },
   "outputs": [
    {
     "name": "stdout",
     "output_type": "stream",
     "text": [
      "15\n",
      "portion 1: (2466, 336) (2466,)\n",
      "(1, 15)\n",
      "portion 1: (9084, 336) (9084,)\n",
      "real\n",
      "1.0\n",
      "training f1: 1.0\n"
     ]
    },
    {
     "ename": "IndexError",
     "evalue": "index 7 is out of bounds for axis 0 with size 1",
     "output_type": "error",
     "traceback": [
      "\u001b[1;31m---------------------------------------------------------------------------\u001b[0m",
      "\u001b[1;31mIndexError\u001b[0m                                Traceback (most recent call last)",
      "Input \u001b[1;32mIn [23]\u001b[0m, in \u001b[0;36m<cell line: 18>\u001b[1;34m()\u001b[0m\n\u001b[0;32m     16\u001b[0m f1_per_class \u001b[38;5;241m=\u001b[39m \u001b[38;5;28;01mNone\u001b[39;00m\n\u001b[0;32m     18\u001b[0m \u001b[38;5;28;01mfor\u001b[39;00m i \u001b[38;5;129;01min\u001b[39;00m \u001b[38;5;28mrange\u001b[39m(num_trials):\n\u001b[1;32m---> 19\u001b[0m     result_all_vir[i], f1_trial\u001b[38;5;241m=\u001b[39m \u001b[43mrf\u001b[49m\u001b[43m(\u001b[49m\u001b[43mX_vir\u001b[49m\u001b[43m,\u001b[49m\u001b[43m \u001b[49m\u001b[43my_vir\u001b[49m\u001b[43m,\u001b[49m\u001b[43m \u001b[49m\u001b[43mX_real\u001b[49m\u001b[43m,\u001b[49m\u001b[43m \u001b[49m\u001b[43my_real\u001b[49m\u001b[43m,\u001b[49m\u001b[43m \u001b[49m\u001b[43msave\u001b[49m\u001b[43m,\u001b[49m\u001b[43m \u001b[49m\u001b[43mproportion\u001b[49m\u001b[43m,\u001b[49m\u001b[43m \u001b[49m\u001b[43mprop_vir\u001b[49m\u001b[43m,\u001b[49m\u001b[43m \u001b[49m\u001b[38;5;124;43m'\u001b[39;49m\u001b[38;5;124;43mreal\u001b[39;49m\u001b[38;5;124;43m'\u001b[39;49m\u001b[43m,\u001b[49m\u001b[43m \u001b[49m\u001b[43mmodel_mode\u001b[49m\u001b[43m,\u001b[49m\n\u001b[0;32m     20\u001b[0m \u001b[43m                                    \u001b[49m\u001b[43mframe_size_seconds\u001b[49m\u001b[43m,\u001b[49m\u001b[43m \u001b[49m\u001b[43mstep_size_seconds\u001b[49m\u001b[43m)\u001b[49m\n\u001b[0;32m     21\u001b[0m     list_f1\u001b[38;5;241m.\u001b[39mappend(np\u001b[38;5;241m.\u001b[39mmean(result_all_vir[i]))\n\u001b[0;32m     23\u001b[0m     \u001b[38;5;28;01mif\u001b[39;00m f1_per_class \u001b[38;5;129;01mis\u001b[39;00m \u001b[38;5;28;01mNone\u001b[39;00m:\n",
      "Input \u001b[1;32mIn [2]\u001b[0m, in \u001b[0;36mrf\u001b[1;34m(X_vir, y_vir, X_real, y_real, save, proportion, portion_vir, exp_protocol, model_mode, frame_size_seconds, step_size_seconds)\u001b[0m\n\u001b[0;32m    246\u001b[0m         labels \u001b[38;5;241m=\u001b[39m \u001b[38;5;28mlist\u001b[39m(report\u001b[38;5;241m.\u001b[39mkeys())[:\u001b[38;5;241m-\u001b[39m\u001b[38;5;241m3\u001b[39m]\n\u001b[0;32m    248\u001b[0m         \u001b[38;5;28;01mfor\u001b[39;00m i \u001b[38;5;129;01min\u001b[39;00m (labels):\n\u001b[0;32m    249\u001b[0m \u001b[38;5;66;03m# #             print(int(i))\u001b[39;00m\n\u001b[0;32m    250\u001b[0m \u001b[38;5;66;03m#             if f'{i}' in report.keys():\u001b[39;00m\n\u001b[0;32m    251\u001b[0m \u001b[38;5;66;03m#                 f1_per_cls[int(i)][idx] += report[f'{i}']['f1-score']\u001b[39;00m\n\u001b[0;32m    252\u001b[0m \u001b[38;5;66;03m#             else:\u001b[39;00m\n\u001b[0;32m    253\u001b[0m \u001b[38;5;66;03m#                 print(int(i))\u001b[39;00m\n\u001b[1;32m--> 254\u001b[0m              \u001b[43mf1_per_cls\u001b[49m\u001b[43m[\u001b[49m\u001b[38;5;28;43mint\u001b[39;49m\u001b[43m(\u001b[49m\u001b[38;5;28;43mfloat\u001b[39;49m\u001b[43m(\u001b[49m\u001b[43mi\u001b[49m\u001b[43m)\u001b[49m\u001b[43m)\u001b[49m\u001b[43m]\u001b[49m[idx] \u001b[38;5;241m+\u001b[39m\u001b[38;5;241m=\u001b[39m  report[i][\u001b[38;5;124m'\u001b[39m\u001b[38;5;124mf1-score\u001b[39m\u001b[38;5;124m'\u001b[39m]\n\u001b[0;32m    255\u001b[0m         list_acc\u001b[38;5;241m.\u001b[39mappend(acc)\n\u001b[0;32m    256\u001b[0m         list_f1_score\u001b[38;5;241m.\u001b[39mappend(f1)\n",
      "\u001b[1;31mIndexError\u001b[0m: index 7 is out of bounds for axis 0 with size 1"
     ]
    }
   ],
   "source": [
    "# run leave one out experiment\n",
    "result_dir = 'recognition_result/usc-had_50'\n",
    "os.makedirs(result_dir, exist_ok = True)\n",
    "    \n",
    "total_folds = len(y_real)\n",
    "portion_val = [0.6]\n",
    "num_trials = 3\n",
    "proportion = 1\n",
    "prop_vir = 1\n",
    "frame_size_seconds = 2\n",
    "step_size_seconds = 1\n",
    "print(total_folds)\n",
    "\n",
    "list_f1 = []\n",
    "result_all_vir = np.zeros((num_trials,total_folds))\n",
    "f1_per_class = None\n",
    "\n",
    "for i in range(num_trials):\n",
    "    result_all_vir[i], f1_trial= rf(X_vir, y_vir, X_real, y_real, save, proportion, prop_vir, 'real', model_mode,\n",
    "                                    frame_size_seconds, step_size_seconds)\n",
    "    list_f1.append(np.mean(result_all_vir[i]))\n",
    "    \n",
    "    if f1_per_class is None:\n",
    "        f1_per_class = f1_trial\n",
    "    else:\n",
    "        f1_per_class = np.hstack((f1_per_class, f1_trial))\n",
    "\n",
    "print(f1_per_class.shape)\n",
    "print(np.mean(np.array(list_f1)))\n",
    "print(np.mean(result_all_vir, axis =0))\n",
    "# np.save(f'{result_dir}/real_{loc}_{proportion}_per_class{model_mode}.npy', f1_per_class)\n",
    "\n",
    "# list_f1 = []\n",
    "# result_all_vir = np.zeros((num_trials,total_folds))\n",
    "# f1_per_class = None\n",
    "# save = \"\"\n",
    "# for i in range(num_trials):\n",
    "#     result_all_vir[i], f1_trial= rf(X_vir, y_vir, X_real, y_real, save, proportion, prop_vir, 'real+vir',model_mode,\n",
    "#                                    frame_size_seconds, step_size_seconds)\n",
    "#     list_f1.append(np.mean(result_all_vir[i]))\n",
    "    \n",
    "#     if f1_per_class is None:\n",
    "#         f1_per_class = f1_trial\n",
    "#     else:\n",
    "#         f1_per_class = np.hstack((f1_per_class, f1_trial))\n",
    "            \n",
    "# print(np.mean(np.array(list_f1)))\n",
    "# print(np.mean(result_all_vir, axis =0))\n",
    "# np.save(f'{result_dir}/mixed_{loc}_{proportion}_per_class{ik_mode}{noise_mode}{model_mode}.npy', f1_per_class)\n",
    "\n",
    "# list_f1 = []\n",
    "# result_all_vir = np.zeros((num_trials,total_folds))\n",
    "# f1_per_class = None\n",
    "# save = \"\"\n",
    "# for i in range(num_trials):\n",
    "#     result_all_vir[i], f1_trial= rf(X_vir, y_vir, X_real, y_real, save, proportion, prop_vir, 'vir', model_mode,\n",
    "#                                    frame_size_seconds, step_size_seconds)\n",
    "#     list_f1.append(np.mean(result_all_vir[i]))\n",
    "    \n",
    "#     if f1_per_class is None:\n",
    "#         f1_per_class = f1_trial\n",
    "#     else:\n",
    "#         f1_per_class = np.hstack((f1_per_class, f1_trial))\n",
    "            \n",
    "# print(np.mean(np.array(list_f1)))\n",
    "# print(np.mean(result_all_vir, axis =0))\n",
    "# np.save(f'{result_dir}/virtual_{loc}_{proportion}_per_class{ik_mode}{noise_mode}{model_mode}.npy', f1_per_class)"
   ]
  },
  {
   "cell_type": "code",
   "execution_count": 8,
   "id": "5b2522b5",
   "metadata": {
    "collapsed": true
   },
   "outputs": [
    {
     "name": "stdout",
     "output_type": "stream",
     "text": [
      "15\n",
      "recognition_result/realworld_1000/vary_vir/virtual_all_loc_0.001_per_class_ik_complex.npy exists\n",
      "recognition_result/realworld_1000/vary_vir/virtual_all_loc_0.005_per_class_ik_complex.npy exists\n",
      "recognition_result/realworld_1000/vary_vir/virtual_all_loc_0.01_per_class_ik_complex.npy exists\n",
      "recognition_result/realworld_1000/vary_vir/virtual_all_loc_0.05_per_class_ik_complex.npy exists\n",
      "recognition_result/realworld_1000/vary_vir/virtual_all_loc_0.1_per_class_ik_complex.npy exists\n",
      "recognition_result/realworld_1000/vary_vir/virtual_all_loc_0.2_per_class_ik_complex.npy exists\n",
      "recognition_result/realworld_1000/vary_vir/virtual_all_loc_0.3_per_class_ik_complex.npy exists\n",
      "recognition_result/realworld_1000/vary_vir/virtual_all_loc_0.4_per_class_ik_complex.npy exists\n",
      "recognition_result/realworld_1000/vary_vir/virtual_all_loc_0.5_per_class_ik_complex.npy exists\n",
      "recognition_result/realworld_1000/vary_vir/virtual_all_loc_0.6_per_class_ik_complex.npy exists\n",
      "recognition_result/realworld_1000/vary_vir/virtual_all_loc_0.7_per_class_ik_complex.npy exists\n",
      "recognition_result/realworld_1000/vary_vir/virtual_all_loc_0.8_per_class_ik_complex.npy exists\n",
      "recognition_result/realworld_1000/vary_vir/virtual_all_loc_0.9_per_class_ik_complex.npy exists\n",
      "portion 1: (50887, 336) (50887,)\n",
      "(8, 15)\n",
      "portion 1: (62112, 336) (62112,)\n",
      "vir\n",
      "0.7292942241608598\n",
      "training f1: 1.0\n",
      "portion 1: (63034, 336) (63034,)\n",
      "vir\n"
     ]
    },
    {
     "name": "stderr",
     "output_type": "stream",
     "text": [
      "D:\\Program\\miniconda3\\lib\\site-packages\\sklearn\\metrics\\_classification.py:1318: UndefinedMetricWarning: Recall and F-score are ill-defined and being set to 0.0 in labels with no true samples. Use `zero_division` parameter to control this behavior.\n",
      "  _warn_prf(average, modifier, msg_start, len(result))\n",
      "D:\\Program\\miniconda3\\lib\\site-packages\\sklearn\\metrics\\_classification.py:1318: UndefinedMetricWarning: Recall and F-score are ill-defined and being set to 0.0 in labels with no true samples. Use `zero_division` parameter to control this behavior.\n",
      "  _warn_prf(average, modifier, msg_start, len(result))\n",
      "D:\\Program\\miniconda3\\lib\\site-packages\\sklearn\\metrics\\_classification.py:1318: UndefinedMetricWarning: Recall and F-score are ill-defined and being set to 0.0 in labels with no true samples. Use `zero_division` parameter to control this behavior.\n",
      "  _warn_prf(average, modifier, msg_start, len(result))\n"
     ]
    },
    {
     "name": "stdout",
     "output_type": "stream",
     "text": [
      "0.8113857517786665\n",
      "training f1: 1.0\n",
      "portion 1: (61853, 336) (61853,)\n",
      "vir\n",
      "0.7904951019344597\n",
      "training f1: 1.0\n",
      "portion 1: (61296, 336) (61296,)\n",
      "vir\n",
      "0.7759879153699677\n",
      "training f1: 1.0\n",
      "portion 1: (61489, 336) (61489,)\n",
      "vir\n",
      "0.7554718566413201\n",
      "training f1: 1.0\n",
      "portion 1: (62182, 336) (62182,)\n",
      "vir\n"
     ]
    },
    {
     "name": "stderr",
     "output_type": "stream",
     "text": [
      "D:\\Program\\miniconda3\\lib\\site-packages\\sklearn\\metrics\\_classification.py:1318: UndefinedMetricWarning: Recall and F-score are ill-defined and being set to 0.0 in labels with no true samples. Use `zero_division` parameter to control this behavior.\n",
      "  _warn_prf(average, modifier, msg_start, len(result))\n",
      "D:\\Program\\miniconda3\\lib\\site-packages\\sklearn\\metrics\\_classification.py:1318: UndefinedMetricWarning: Recall and F-score are ill-defined and being set to 0.0 in labels with no true samples. Use `zero_division` parameter to control this behavior.\n",
      "  _warn_prf(average, modifier, msg_start, len(result))\n",
      "D:\\Program\\miniconda3\\lib\\site-packages\\sklearn\\metrics\\_classification.py:1318: UndefinedMetricWarning: Recall and F-score are ill-defined and being set to 0.0 in labels with no true samples. Use `zero_division` parameter to control this behavior.\n",
      "  _warn_prf(average, modifier, msg_start, len(result))\n"
     ]
    },
    {
     "name": "stdout",
     "output_type": "stream",
     "text": [
      "0.6821349492741278\n",
      "training f1: 1.0\n",
      "portion 1: (61797, 336) (61797,)\n",
      "vir\n",
      "0.860125621810715\n",
      "training f1: 1.0\n",
      "portion 1: (61529, 336) (61529,)\n",
      "vir\n",
      "0.7223083057339486\n",
      "training f1: 1.0\n",
      "portion 1: (61917, 336) (61917,)\n",
      "vir\n",
      "0.8010018588782855\n",
      "training f1: 1.0\n",
      "portion 1: (62201, 336) (62201,)\n",
      "vir\n",
      "0.6899158202921113\n",
      "training f1: 1.0\n",
      "portion 1: (62000, 336) (62000,)\n",
      "vir\n",
      "0.6487016685665535\n",
      "training f1: 1.0\n",
      "portion 1: (62157, 336) (62157,)\n",
      "vir\n",
      "0.8296480061557057\n",
      "training f1: 1.0\n",
      "portion 1: (62033, 336) (62033,)\n",
      "vir\n",
      "0.6406629301404227\n",
      "training f1: 1.0\n",
      "portion 1: (62112, 336) (62112,)\n",
      "vir\n",
      "0.6776627221644571\n",
      "training f1: 1.0\n",
      "portion 1: (61963, 336) (61963,)\n",
      "vir\n",
      "0.6124991728930258\n",
      "training f1: 1.0\n",
      "[0.7292942241608598, 0.8113857517786665, 0.7904951019344597, 0.7759879153699677, 0.7554718566413201, 0.6821349492741278, 0.860125621810715, 0.7223083057339486, 0.8010018588782855, 0.6899158202921113, 0.6487016685665535, 0.8296480061557057, 0.6406629301404227, 0.6776627221644571, 0.6124991728930258]\n",
      "0.7351530603863085\n",
      "portion 1: (50887, 336) (50887,)\n",
      "(8, 15)\n",
      "portion 1: (62112, 336) (62112,)\n",
      "vir\n",
      "0.7350273753382647\n",
      "training f1: 1.0\n",
      "portion 1: (63034, 336) (63034,)\n",
      "vir\n"
     ]
    },
    {
     "name": "stderr",
     "output_type": "stream",
     "text": [
      "D:\\Program\\miniconda3\\lib\\site-packages\\sklearn\\metrics\\_classification.py:1318: UndefinedMetricWarning: Recall and F-score are ill-defined and being set to 0.0 in labels with no true samples. Use `zero_division` parameter to control this behavior.\n",
      "  _warn_prf(average, modifier, msg_start, len(result))\n",
      "D:\\Program\\miniconda3\\lib\\site-packages\\sklearn\\metrics\\_classification.py:1318: UndefinedMetricWarning: Recall and F-score are ill-defined and being set to 0.0 in labels with no true samples. Use `zero_division` parameter to control this behavior.\n",
      "  _warn_prf(average, modifier, msg_start, len(result))\n",
      "D:\\Program\\miniconda3\\lib\\site-packages\\sklearn\\metrics\\_classification.py:1318: UndefinedMetricWarning: Recall and F-score are ill-defined and being set to 0.0 in labels with no true samples. Use `zero_division` parameter to control this behavior.\n",
      "  _warn_prf(average, modifier, msg_start, len(result))\n"
     ]
    },
    {
     "name": "stdout",
     "output_type": "stream",
     "text": [
      "0.7862964110812651\n",
      "training f1: 1.0\n",
      "portion 1: (61853, 336) (61853,)\n",
      "vir\n",
      "0.8372799409321602\n",
      "training f1: 1.0\n",
      "portion 1: (61296, 336) (61296,)\n",
      "vir\n",
      "0.7820044198981291\n",
      "training f1: 1.0\n",
      "portion 1: (61489, 336) (61489,)\n",
      "vir\n",
      "0.7464251395686359\n",
      "training f1: 1.0\n",
      "portion 1: (62182, 336) (62182,)\n",
      "vir\n"
     ]
    },
    {
     "name": "stderr",
     "output_type": "stream",
     "text": [
      "D:\\Program\\miniconda3\\lib\\site-packages\\sklearn\\metrics\\_classification.py:1318: UndefinedMetricWarning: Recall and F-score are ill-defined and being set to 0.0 in labels with no true samples. Use `zero_division` parameter to control this behavior.\n",
      "  _warn_prf(average, modifier, msg_start, len(result))\n",
      "D:\\Program\\miniconda3\\lib\\site-packages\\sklearn\\metrics\\_classification.py:1318: UndefinedMetricWarning: Recall and F-score are ill-defined and being set to 0.0 in labels with no true samples. Use `zero_division` parameter to control this behavior.\n",
      "  _warn_prf(average, modifier, msg_start, len(result))\n",
      "D:\\Program\\miniconda3\\lib\\site-packages\\sklearn\\metrics\\_classification.py:1318: UndefinedMetricWarning: Recall and F-score are ill-defined and being set to 0.0 in labels with no true samples. Use `zero_division` parameter to control this behavior.\n",
      "  _warn_prf(average, modifier, msg_start, len(result))\n"
     ]
    },
    {
     "name": "stdout",
     "output_type": "stream",
     "text": [
      "0.66866491123246\n",
      "training f1: 1.0\n",
      "portion 1: (61797, 336) (61797,)\n",
      "vir\n",
      "0.8984049509221496\n",
      "training f1: 1.0\n",
      "portion 1: (61529, 336) (61529,)\n",
      "vir\n",
      "0.7531008201175005\n",
      "training f1: 1.0\n",
      "portion 1: (61917, 336) (61917,)\n",
      "vir\n",
      "0.7568629755298508\n",
      "training f1: 1.0\n",
      "portion 1: (62201, 336) (62201,)\n",
      "vir\n",
      "0.711505885015562\n",
      "training f1: 1.0\n",
      "portion 1: (62000, 336) (62000,)\n",
      "vir\n",
      "0.592991374236173\n",
      "training f1: 1.0\n",
      "portion 1: (62157, 336) (62157,)\n",
      "vir\n",
      "0.8279490019464553\n",
      "training f1: 1.0\n",
      "portion 1: (62033, 336) (62033,)\n",
      "vir\n",
      "0.6061324729580335\n",
      "training f1: 1.0\n",
      "portion 1: (62112, 336) (62112,)\n",
      "vir\n",
      "0.7441360557434259\n",
      "training f1: 1.0\n",
      "portion 1: (61963, 336) (61963,)\n",
      "vir\n",
      "0.6294504468970541\n",
      "training f1: 1.0\n",
      "[0.7350273753382647, 0.7862964110812651, 0.8372799409321602, 0.7820044198981291, 0.7464251395686359, 0.66866491123246, 0.8984049509221496, 0.7531008201175005, 0.7568629755298508, 0.711505885015562, 0.592991374236173, 0.8279490019464553, 0.6061324729580335, 0.7441360557434259, 0.6294504468970541]\n",
      "0.7384154787611413\n",
      "portion 1: (50887, 336) (50887,)\n",
      "(8, 15)\n",
      "portion 1: (62112, 336) (62112,)\n",
      "vir\n",
      "0.7180206997902223\n",
      "training f1: 1.0\n",
      "portion 1: (63034, 336) (63034,)\n",
      "vir\n"
     ]
    },
    {
     "name": "stderr",
     "output_type": "stream",
     "text": [
      "D:\\Program\\miniconda3\\lib\\site-packages\\sklearn\\metrics\\_classification.py:1318: UndefinedMetricWarning: Recall and F-score are ill-defined and being set to 0.0 in labels with no true samples. Use `zero_division` parameter to control this behavior.\n",
      "  _warn_prf(average, modifier, msg_start, len(result))\n",
      "D:\\Program\\miniconda3\\lib\\site-packages\\sklearn\\metrics\\_classification.py:1318: UndefinedMetricWarning: Recall and F-score are ill-defined and being set to 0.0 in labels with no true samples. Use `zero_division` parameter to control this behavior.\n",
      "  _warn_prf(average, modifier, msg_start, len(result))\n",
      "D:\\Program\\miniconda3\\lib\\site-packages\\sklearn\\metrics\\_classification.py:1318: UndefinedMetricWarning: Recall and F-score are ill-defined and being set to 0.0 in labels with no true samples. Use `zero_division` parameter to control this behavior.\n",
      "  _warn_prf(average, modifier, msg_start, len(result))\n"
     ]
    },
    {
     "name": "stdout",
     "output_type": "stream",
     "text": [
      "0.782873309018632\n",
      "training f1: 1.0\n",
      "portion 1: (61853, 336) (61853,)\n",
      "vir\n",
      "0.7650862304778714\n",
      "training f1: 1.0\n",
      "portion 1: (61296, 336) (61296,)\n",
      "vir\n",
      "0.7839949775318673\n",
      "training f1: 1.0\n",
      "portion 1: (61489, 336) (61489,)\n",
      "vir\n",
      "0.7188035842774236\n",
      "training f1: 1.0\n",
      "portion 1: (62182, 336) (62182,)\n",
      "vir\n"
     ]
    },
    {
     "name": "stderr",
     "output_type": "stream",
     "text": [
      "D:\\Program\\miniconda3\\lib\\site-packages\\sklearn\\metrics\\_classification.py:1318: UndefinedMetricWarning: Recall and F-score are ill-defined and being set to 0.0 in labels with no true samples. Use `zero_division` parameter to control this behavior.\n",
      "  _warn_prf(average, modifier, msg_start, len(result))\n",
      "D:\\Program\\miniconda3\\lib\\site-packages\\sklearn\\metrics\\_classification.py:1318: UndefinedMetricWarning: Recall and F-score are ill-defined and being set to 0.0 in labels with no true samples. Use `zero_division` parameter to control this behavior.\n",
      "  _warn_prf(average, modifier, msg_start, len(result))\n",
      "D:\\Program\\miniconda3\\lib\\site-packages\\sklearn\\metrics\\_classification.py:1318: UndefinedMetricWarning: Recall and F-score are ill-defined and being set to 0.0 in labels with no true samples. Use `zero_division` parameter to control this behavior.\n",
      "  _warn_prf(average, modifier, msg_start, len(result))\n"
     ]
    },
    {
     "name": "stdout",
     "output_type": "stream",
     "text": [
      "0.6959859123203652\n",
      "training f1: 1.0\n",
      "portion 1: (61797, 336) (61797,)\n",
      "vir\n",
      "0.8400611422039733\n",
      "training f1: 1.0\n",
      "portion 1: (61529, 336) (61529,)\n",
      "vir\n",
      "0.706106594566289\n",
      "training f1: 1.0\n",
      "portion 1: (61917, 336) (61917,)\n",
      "vir\n",
      "0.7661632940713545\n",
      "training f1: 1.0\n",
      "portion 1: (62201, 336) (62201,)\n",
      "vir\n",
      "0.6791181810445878\n",
      "training f1: 1.0\n",
      "portion 1: (62000, 336) (62000,)\n",
      "vir\n",
      "0.6164764587579965\n",
      "training f1: 1.0\n",
      "portion 1: (62157, 336) (62157,)\n",
      "vir\n",
      "0.7663452955751002\n",
      "training f1: 1.0\n",
      "portion 1: (62033, 336) (62033,)\n",
      "vir\n",
      "0.7075377158907601\n",
      "training f1: 1.0\n",
      "portion 1: (62112, 336) (62112,)\n",
      "vir\n",
      "0.7081988985723746\n",
      "training f1: 1.0\n",
      "portion 1: (61963, 336) (61963,)\n",
      "vir\n",
      "0.6292968365082844\n",
      "training f1: 1.0\n",
      "[0.7180206997902223, 0.782873309018632, 0.7650862304778714, 0.7839949775318673, 0.7188035842774236, 0.6959859123203652, 0.8400611422039733, 0.706106594566289, 0.7661632940713545, 0.6791181810445878, 0.6164764587579965, 0.7663452955751002, 0.7075377158907601, 0.7081988985723746, 0.6292968365082844]\n",
      "0.7256046087071402\n",
      "0.73305771595153\n",
      "[0.72744743 0.79351849 0.79762042 0.78066244 0.74023353 0.68226192\n",
      " 0.86619724 0.72717191 0.77467604 0.6935133  0.61938983 0.80798077\n",
      " 0.65144437 0.70999923 0.62374882]\n"
     ]
    }
   ],
   "source": [
    "# run leave one out experiment but with subsets of proportions of virtual data \n",
    "result_dir = 'recognition_result/realworld_1000/vary_vir'\n",
    "os.makedirs(result_dir, exist_ok = True)\n",
    "    \n",
    "total_folds = len(y_real)\n",
    "portion_val = [0.6]\n",
    "num_trials = 3\n",
    "proportion = 1\n",
    "frame_size_seconds = 2\n",
    "step_size_seconds = 1\n",
    "print(total_folds)\n",
    "\n",
    "vir_proportions = [0.001, 0.005, 0.01, 0.05, 0.1, 0.2, 0.3, 0.4, 0.5, 0.6, 0.7, 0.8, 0.9, 1]\n",
    "\n",
    "for prop in vir_proportions:\n",
    "    #mixed\n",
    "    save = f'{result_dir}/virtual_{loc}_{prop}_per_class{ik_mode}{noise_mode}{model_mode}.npy'\n",
    "    if os.path.exists(save):\n",
    "        print(f'{save} exists')\n",
    "        continue\n",
    "    \n",
    "#     list_f1 = []\n",
    "#     result_all_vir = np.zeros((num_trials,total_folds))\n",
    "#     f1_per_class = None\n",
    "#     for i in range(num_trials):\n",
    "#         result_all_vir[i], f1_trial= rf(X_vir, y_vir, X_real, y_real, save, proportion, prop, 'real+vir', model_mode,\n",
    "#                                        frame_size_seconds, step_size_seconds)\n",
    "#         list_f1.append(np.mean(result_all_vir[i]))\n",
    "\n",
    "#         if f1_per_class is None:\n",
    "#             f1_per_class = f1_trial\n",
    "#         else:\n",
    "#             f1_per_class = np.hstack((f1_per_class, f1_trial))\n",
    "\n",
    "#     print(np.mean(np.array(list_f1)))\n",
    "#     print(np.mean(result_all_vir, axis =0))\n",
    "#     np.save(save, f1_per_class)\n",
    "    \n",
    "    \n",
    "    #virtual \n",
    "    save = f'{result_dir}/virtual_{loc}_{prop}_per_class{ik_mode}{noise_mode}{model_mode}.npy'\n",
    "    if os.path.exists(save):\n",
    "        print(f'{save} exists')\n",
    "        continue\n",
    "    \n",
    "    list_f1 = []\n",
    "    result_all_vir = np.zeros((num_trials,total_folds))\n",
    "    f1_per_class = None\n",
    "    for i in range(num_trials):\n",
    "        result_all_vir[i], f1_trial= rf(X_vir, y_vir, X_real, y_real, save, proportion, prop, 'vir', model_mode,\n",
    "                                       frame_size_seconds, step_size_seconds)\n",
    "        list_f1.append(np.mean(result_all_vir[i]))\n",
    "\n",
    "        if f1_per_class is None:\n",
    "            f1_per_class = f1_trial\n",
    "        else:\n",
    "            f1_per_class = np.hstack((f1_per_class, f1_trial))\n",
    "\n",
    "    print(np.mean(np.array(list_f1)))\n",
    "    print(np.mean(result_all_vir, axis =0))\n",
    "    np.save(save, f1_per_class)"
   ]
  },
  {
   "cell_type": "code",
   "execution_count": 58,
   "id": "64c3cfc1",
   "metadata": {},
   "outputs": [
    {
     "name": "stdout",
     "output_type": "stream",
     "text": [
      "14\n",
      "portion 1: (4142, 48) (4142,)\n",
      "(12, 14)\n",
      "portion 0.02: (519, 48) (519,)\n",
      "real\n",
      "0.3988672450093372\n",
      "training f1: 1.0\n",
      "portion 0.02: (523, 48) (523,)\n",
      "real\n",
      "0.32082702677006725\n",
      "training f1: 1.0\n"
     ]
    },
    {
     "name": "stderr",
     "output_type": "stream",
     "text": [
      "D:\\Program\\miniconda3\\lib\\site-packages\\sklearn\\metrics\\_classification.py:1318: UndefinedMetricWarning: Precision and F-score are ill-defined and being set to 0.0 in labels with no predicted samples. Use `zero_division` parameter to control this behavior.\n",
      "  _warn_prf(average, modifier, msg_start, len(result))\n",
      "D:\\Program\\miniconda3\\lib\\site-packages\\sklearn\\metrics\\_classification.py:1318: UndefinedMetricWarning: Precision and F-score are ill-defined and being set to 0.0 in labels with no predicted samples. Use `zero_division` parameter to control this behavior.\n",
      "  _warn_prf(average, modifier, msg_start, len(result))\n",
      "D:\\Program\\miniconda3\\lib\\site-packages\\sklearn\\metrics\\_classification.py:1318: UndefinedMetricWarning: Precision and F-score are ill-defined and being set to 0.0 in labels with no predicted samples. Use `zero_division` parameter to control this behavior.\n",
      "  _warn_prf(average, modifier, msg_start, len(result))\n"
     ]
    },
    {
     "name": "stdout",
     "output_type": "stream",
     "text": [
      "portion 0.02: (529, 48) (529,)\n",
      "real\n",
      "0.3904237952045784\n",
      "training f1: 1.0\n"
     ]
    },
    {
     "name": "stderr",
     "output_type": "stream",
     "text": [
      "D:\\Program\\miniconda3\\lib\\site-packages\\sklearn\\metrics\\_classification.py:1318: UndefinedMetricWarning: Precision and F-score are ill-defined and being set to 0.0 in labels with no predicted samples. Use `zero_division` parameter to control this behavior.\n",
      "  _warn_prf(average, modifier, msg_start, len(result))\n",
      "D:\\Program\\miniconda3\\lib\\site-packages\\sklearn\\metrics\\_classification.py:1318: UndefinedMetricWarning: Precision and F-score are ill-defined and being set to 0.0 in labels with no predicted samples. Use `zero_division` parameter to control this behavior.\n",
      "  _warn_prf(average, modifier, msg_start, len(result))\n",
      "D:\\Program\\miniconda3\\lib\\site-packages\\sklearn\\metrics\\_classification.py:1318: UndefinedMetricWarning: Precision and F-score are ill-defined and being set to 0.0 in labels with no predicted samples. Use `zero_division` parameter to control this behavior.\n",
      "  _warn_prf(average, modifier, msg_start, len(result))\n"
     ]
    },
    {
     "name": "stdout",
     "output_type": "stream",
     "text": [
      "portion 0.02: (525, 48) (525,)\n",
      "real\n",
      "0.3173359959641829\n",
      "training f1: 1.0\n",
      "portion 0.02: (529, 48) (529,)\n",
      "real\n",
      "0.39725141860475555\n",
      "training f1: 1.0\n"
     ]
    },
    {
     "name": "stderr",
     "output_type": "stream",
     "text": [
      "D:\\Program\\miniconda3\\lib\\site-packages\\sklearn\\metrics\\_classification.py:1318: UndefinedMetricWarning: Precision and F-score are ill-defined and being set to 0.0 in labels with no predicted samples. Use `zero_division` parameter to control this behavior.\n",
      "  _warn_prf(average, modifier, msg_start, len(result))\n",
      "D:\\Program\\miniconda3\\lib\\site-packages\\sklearn\\metrics\\_classification.py:1318: UndefinedMetricWarning: Precision and F-score are ill-defined and being set to 0.0 in labels with no predicted samples. Use `zero_division` parameter to control this behavior.\n",
      "  _warn_prf(average, modifier, msg_start, len(result))\n",
      "D:\\Program\\miniconda3\\lib\\site-packages\\sklearn\\metrics\\_classification.py:1318: UndefinedMetricWarning: Precision and F-score are ill-defined and being set to 0.0 in labels with no predicted samples. Use `zero_division` parameter to control this behavior.\n",
      "  _warn_prf(average, modifier, msg_start, len(result))\n"
     ]
    },
    {
     "name": "stdout",
     "output_type": "stream",
     "text": [
      "portion 0.02: (524, 48) (524,)\n",
      "real\n",
      "0.19657948122420485\n",
      "training f1: 1.0\n"
     ]
    },
    {
     "name": "stderr",
     "output_type": "stream",
     "text": [
      "D:\\Program\\miniconda3\\lib\\site-packages\\sklearn\\metrics\\_classification.py:1318: UndefinedMetricWarning: Precision and F-score are ill-defined and being set to 0.0 in labels with no predicted samples. Use `zero_division` parameter to control this behavior.\n",
      "  _warn_prf(average, modifier, msg_start, len(result))\n",
      "D:\\Program\\miniconda3\\lib\\site-packages\\sklearn\\metrics\\_classification.py:1318: UndefinedMetricWarning: Precision and F-score are ill-defined and being set to 0.0 in labels with no predicted samples. Use `zero_division` parameter to control this behavior.\n",
      "  _warn_prf(average, modifier, msg_start, len(result))\n",
      "D:\\Program\\miniconda3\\lib\\site-packages\\sklearn\\metrics\\_classification.py:1318: UndefinedMetricWarning: Precision and F-score are ill-defined and being set to 0.0 in labels with no predicted samples. Use `zero_division` parameter to control this behavior.\n",
      "  _warn_prf(average, modifier, msg_start, len(result))\n"
     ]
    },
    {
     "name": "stdout",
     "output_type": "stream",
     "text": [
      "portion 0.02: (530, 48) (530,)\n",
      "real\n",
      "0.3114450540920964\n",
      "training f1: 1.0\n",
      "portion 0.02: (517, 48) (517,)\n",
      "real\n",
      "0.20005589080077602\n",
      "training f1: 1.0\n"
     ]
    },
    {
     "name": "stderr",
     "output_type": "stream",
     "text": [
      "D:\\Program\\miniconda3\\lib\\site-packages\\sklearn\\metrics\\_classification.py:1318: UndefinedMetricWarning: Precision and F-score are ill-defined and being set to 0.0 in labels with no predicted samples. Use `zero_division` parameter to control this behavior.\n",
      "  _warn_prf(average, modifier, msg_start, len(result))\n",
      "D:\\Program\\miniconda3\\lib\\site-packages\\sklearn\\metrics\\_classification.py:1318: UndefinedMetricWarning: Precision and F-score are ill-defined and being set to 0.0 in labels with no predicted samples. Use `zero_division` parameter to control this behavior.\n",
      "  _warn_prf(average, modifier, msg_start, len(result))\n",
      "D:\\Program\\miniconda3\\lib\\site-packages\\sklearn\\metrics\\_classification.py:1318: UndefinedMetricWarning: Precision and F-score are ill-defined and being set to 0.0 in labels with no predicted samples. Use `zero_division` parameter to control this behavior.\n",
      "  _warn_prf(average, modifier, msg_start, len(result))\n"
     ]
    },
    {
     "name": "stdout",
     "output_type": "stream",
     "text": [
      "portion 0.02: (504, 48) (504,)\n",
      "real\n",
      "0.318699340304549\n",
      "training f1: 1.0\n"
     ]
    },
    {
     "name": "stderr",
     "output_type": "stream",
     "text": [
      "D:\\Program\\miniconda3\\lib\\site-packages\\sklearn\\metrics\\_classification.py:1318: UndefinedMetricWarning: Precision and F-score are ill-defined and being set to 0.0 in labels with no predicted samples. Use `zero_division` parameter to control this behavior.\n",
      "  _warn_prf(average, modifier, msg_start, len(result))\n",
      "D:\\Program\\miniconda3\\lib\\site-packages\\sklearn\\metrics\\_classification.py:1318: UndefinedMetricWarning: Precision and F-score are ill-defined and being set to 0.0 in labels with no predicted samples. Use `zero_division` parameter to control this behavior.\n",
      "  _warn_prf(average, modifier, msg_start, len(result))\n",
      "D:\\Program\\miniconda3\\lib\\site-packages\\sklearn\\metrics\\_classification.py:1318: UndefinedMetricWarning: Precision and F-score are ill-defined and being set to 0.0 in labels with no predicted samples. Use `zero_division` parameter to control this behavior.\n",
      "  _warn_prf(average, modifier, msg_start, len(result))\n"
     ]
    },
    {
     "name": "stdout",
     "output_type": "stream",
     "text": [
      "portion 0.02: (508, 48) (508,)\n",
      "real\n",
      "0.25456297016673685\n",
      "training f1: 1.0\n",
      "portion 0.02: (505, 48) (505,)\n",
      "real\n",
      "0.17254574250314134\n",
      "training f1: 1.0\n"
     ]
    },
    {
     "name": "stderr",
     "output_type": "stream",
     "text": [
      "D:\\Program\\miniconda3\\lib\\site-packages\\sklearn\\metrics\\_classification.py:1318: UndefinedMetricWarning: Precision and F-score are ill-defined and being set to 0.0 in labels with no predicted samples. Use `zero_division` parameter to control this behavior.\n",
      "  _warn_prf(average, modifier, msg_start, len(result))\n",
      "D:\\Program\\miniconda3\\lib\\site-packages\\sklearn\\metrics\\_classification.py:1318: UndefinedMetricWarning: Precision and F-score are ill-defined and being set to 0.0 in labels with no predicted samples. Use `zero_division` parameter to control this behavior.\n",
      "  _warn_prf(average, modifier, msg_start, len(result))\n",
      "D:\\Program\\miniconda3\\lib\\site-packages\\sklearn\\metrics\\_classification.py:1318: UndefinedMetricWarning: Precision and F-score are ill-defined and being set to 0.0 in labels with no predicted samples. Use `zero_division` parameter to control this behavior.\n",
      "  _warn_prf(average, modifier, msg_start, len(result))\n"
     ]
    },
    {
     "name": "stdout",
     "output_type": "stream",
     "text": [
      "portion 0.02: (503, 48) (503,)\n",
      "real\n",
      "0.3974726998764852\n",
      "training f1: 1.0\n"
     ]
    },
    {
     "name": "stderr",
     "output_type": "stream",
     "text": [
      "D:\\Program\\miniconda3\\lib\\site-packages\\sklearn\\metrics\\_classification.py:1318: UndefinedMetricWarning: Precision and F-score are ill-defined and being set to 0.0 in labels with no predicted samples. Use `zero_division` parameter to control this behavior.\n",
      "  _warn_prf(average, modifier, msg_start, len(result))\n",
      "D:\\Program\\miniconda3\\lib\\site-packages\\sklearn\\metrics\\_classification.py:1318: UndefinedMetricWarning: Precision and F-score are ill-defined and being set to 0.0 in labels with no predicted samples. Use `zero_division` parameter to control this behavior.\n",
      "  _warn_prf(average, modifier, msg_start, len(result))\n",
      "D:\\Program\\miniconda3\\lib\\site-packages\\sklearn\\metrics\\_classification.py:1318: UndefinedMetricWarning: Precision and F-score are ill-defined and being set to 0.0 in labels with no predicted samples. Use `zero_division` parameter to control this behavior.\n",
      "  _warn_prf(average, modifier, msg_start, len(result))\n"
     ]
    },
    {
     "name": "stdout",
     "output_type": "stream",
     "text": [
      "portion 0.02: (506, 48) (506,)\n",
      "real\n",
      "0.22641529812829175\n",
      "training f1: 1.0\n"
     ]
    },
    {
     "name": "stderr",
     "output_type": "stream",
     "text": [
      "D:\\Program\\miniconda3\\lib\\site-packages\\sklearn\\metrics\\_classification.py:1318: UndefinedMetricWarning: Precision and F-score are ill-defined and being set to 0.0 in labels with no predicted samples. Use `zero_division` parameter to control this behavior.\n",
      "  _warn_prf(average, modifier, msg_start, len(result))\n",
      "D:\\Program\\miniconda3\\lib\\site-packages\\sklearn\\metrics\\_classification.py:1318: UndefinedMetricWarning: Precision and F-score are ill-defined and being set to 0.0 in labels with no predicted samples. Use `zero_division` parameter to control this behavior.\n",
      "  _warn_prf(average, modifier, msg_start, len(result))\n",
      "D:\\Program\\miniconda3\\lib\\site-packages\\sklearn\\metrics\\_classification.py:1318: UndefinedMetricWarning: Precision and F-score are ill-defined and being set to 0.0 in labels with no predicted samples. Use `zero_division` parameter to control this behavior.\n",
      "  _warn_prf(average, modifier, msg_start, len(result))\n"
     ]
    },
    {
     "name": "stdout",
     "output_type": "stream",
     "text": [
      "portion 0.02: (515, 48) (515,)\n",
      "real\n",
      "0.038313676748651555\n",
      "training f1: 1.0\n",
      "[0.3988672450093372, 0.32082702677006725, 0.3904237952045784, 0.3173359959641829, 0.39725141860475555, 0.19657948122420485, 0.3114450540920964, 0.20005589080077602, 0.318699340304549, 0.25456297016673685, 0.17254574250314134, 0.3974726998764852, 0.22641529812829175, 0.038313676748651555]\n",
      "0.28148540252841814\n"
     ]
    },
    {
     "name": "stderr",
     "output_type": "stream",
     "text": [
      "D:\\Program\\miniconda3\\lib\\site-packages\\sklearn\\metrics\\_classification.py:1318: UndefinedMetricWarning: Precision and F-score are ill-defined and being set to 0.0 in labels with no predicted samples. Use `zero_division` parameter to control this behavior.\n",
      "  _warn_prf(average, modifier, msg_start, len(result))\n",
      "D:\\Program\\miniconda3\\lib\\site-packages\\sklearn\\metrics\\_classification.py:1318: UndefinedMetricWarning: Precision and F-score are ill-defined and being set to 0.0 in labels with no predicted samples. Use `zero_division` parameter to control this behavior.\n",
      "  _warn_prf(average, modifier, msg_start, len(result))\n",
      "D:\\Program\\miniconda3\\lib\\site-packages\\sklearn\\metrics\\_classification.py:1318: UndefinedMetricWarning: Precision and F-score are ill-defined and being set to 0.0 in labels with no predicted samples. Use `zero_division` parameter to control this behavior.\n",
      "  _warn_prf(average, modifier, msg_start, len(result))\n"
     ]
    },
    {
     "name": "stdout",
     "output_type": "stream",
     "text": [
      "portion 1: (4142, 48) (4142,)\n",
      "(12, 14)\n",
      "portion 0.02: (519, 48) (519,)\n",
      "real\n",
      "0.4084493846904622\n",
      "training f1: 1.0\n"
     ]
    },
    {
     "name": "stderr",
     "output_type": "stream",
     "text": [
      "D:\\Program\\miniconda3\\lib\\site-packages\\sklearn\\metrics\\_classification.py:1318: UndefinedMetricWarning: Precision and F-score are ill-defined and being set to 0.0 in labels with no predicted samples. Use `zero_division` parameter to control this behavior.\n",
      "  _warn_prf(average, modifier, msg_start, len(result))\n",
      "D:\\Program\\miniconda3\\lib\\site-packages\\sklearn\\metrics\\_classification.py:1318: UndefinedMetricWarning: Precision and F-score are ill-defined and being set to 0.0 in labels with no predicted samples. Use `zero_division` parameter to control this behavior.\n",
      "  _warn_prf(average, modifier, msg_start, len(result))\n",
      "D:\\Program\\miniconda3\\lib\\site-packages\\sklearn\\metrics\\_classification.py:1318: UndefinedMetricWarning: Precision and F-score are ill-defined and being set to 0.0 in labels with no predicted samples. Use `zero_division` parameter to control this behavior.\n",
      "  _warn_prf(average, modifier, msg_start, len(result))\n"
     ]
    },
    {
     "name": "stdout",
     "output_type": "stream",
     "text": [
      "portion 0.02: (523, 48) (523,)\n",
      "real\n",
      "0.3139623092722971\n",
      "training f1: 1.0\n"
     ]
    },
    {
     "name": "stderr",
     "output_type": "stream",
     "text": [
      "D:\\Program\\miniconda3\\lib\\site-packages\\sklearn\\metrics\\_classification.py:1318: UndefinedMetricWarning: Precision and F-score are ill-defined and being set to 0.0 in labels with no predicted samples. Use `zero_division` parameter to control this behavior.\n",
      "  _warn_prf(average, modifier, msg_start, len(result))\n",
      "D:\\Program\\miniconda3\\lib\\site-packages\\sklearn\\metrics\\_classification.py:1318: UndefinedMetricWarning: Precision and F-score are ill-defined and being set to 0.0 in labels with no predicted samples. Use `zero_division` parameter to control this behavior.\n",
      "  _warn_prf(average, modifier, msg_start, len(result))\n",
      "D:\\Program\\miniconda3\\lib\\site-packages\\sklearn\\metrics\\_classification.py:1318: UndefinedMetricWarning: Precision and F-score are ill-defined and being set to 0.0 in labels with no predicted samples. Use `zero_division` parameter to control this behavior.\n",
      "  _warn_prf(average, modifier, msg_start, len(result))\n"
     ]
    },
    {
     "name": "stdout",
     "output_type": "stream",
     "text": [
      "portion 0.02: (529, 48) (529,)\n",
      "real\n",
      "0.4702155862814759\n",
      "training f1: 0.998583536514571\n"
     ]
    },
    {
     "name": "stderr",
     "output_type": "stream",
     "text": [
      "D:\\Program\\miniconda3\\lib\\site-packages\\sklearn\\metrics\\_classification.py:1318: UndefinedMetricWarning: Precision and F-score are ill-defined and being set to 0.0 in labels with no predicted samples. Use `zero_division` parameter to control this behavior.\n",
      "  _warn_prf(average, modifier, msg_start, len(result))\n",
      "D:\\Program\\miniconda3\\lib\\site-packages\\sklearn\\metrics\\_classification.py:1318: UndefinedMetricWarning: Precision and F-score are ill-defined and being set to 0.0 in labels with no predicted samples. Use `zero_division` parameter to control this behavior.\n",
      "  _warn_prf(average, modifier, msg_start, len(result))\n",
      "D:\\Program\\miniconda3\\lib\\site-packages\\sklearn\\metrics\\_classification.py:1318: UndefinedMetricWarning: Precision and F-score are ill-defined and being set to 0.0 in labels with no predicted samples. Use `zero_division` parameter to control this behavior.\n",
      "  _warn_prf(average, modifier, msg_start, len(result))\n"
     ]
    },
    {
     "name": "stdout",
     "output_type": "stream",
     "text": [
      "portion 0.02: (525, 48) (525,)\n",
      "real\n",
      "0.3438885959055075\n",
      "training f1: 1.0\n"
     ]
    },
    {
     "name": "stderr",
     "output_type": "stream",
     "text": [
      "D:\\Program\\miniconda3\\lib\\site-packages\\sklearn\\metrics\\_classification.py:1318: UndefinedMetricWarning: Precision and F-score are ill-defined and being set to 0.0 in labels with no predicted samples. Use `zero_division` parameter to control this behavior.\n",
      "  _warn_prf(average, modifier, msg_start, len(result))\n",
      "D:\\Program\\miniconda3\\lib\\site-packages\\sklearn\\metrics\\_classification.py:1318: UndefinedMetricWarning: Precision and F-score are ill-defined and being set to 0.0 in labels with no predicted samples. Use `zero_division` parameter to control this behavior.\n",
      "  _warn_prf(average, modifier, msg_start, len(result))\n",
      "D:\\Program\\miniconda3\\lib\\site-packages\\sklearn\\metrics\\_classification.py:1318: UndefinedMetricWarning: Precision and F-score are ill-defined and being set to 0.0 in labels with no predicted samples. Use `zero_division` parameter to control this behavior.\n",
      "  _warn_prf(average, modifier, msg_start, len(result))\n"
     ]
    },
    {
     "name": "stdout",
     "output_type": "stream",
     "text": [
      "portion 0.02: (529, 48) (529,)\n",
      "real\n",
      "0.42148508791683476\n",
      "training f1: 1.0\n",
      "portion 0.02: (524, 48) (524,)\n",
      "real\n",
      "0.24078925968225431\n",
      "training f1: 1.0\n",
      "portion 0.02: (530, 48) (530,)\n",
      "real\n",
      "0.28945826224757437\n",
      "training f1: 1.0\n",
      "portion 0.02: (517, 48) (517,)\n",
      "real\n",
      "0.2123223593206849\n",
      "training f1: 1.0\n"
     ]
    },
    {
     "name": "stderr",
     "output_type": "stream",
     "text": [
      "D:\\Program\\miniconda3\\lib\\site-packages\\sklearn\\metrics\\_classification.py:1318: UndefinedMetricWarning: Precision and F-score are ill-defined and being set to 0.0 in labels with no predicted samples. Use `zero_division` parameter to control this behavior.\n",
      "  _warn_prf(average, modifier, msg_start, len(result))\n",
      "D:\\Program\\miniconda3\\lib\\site-packages\\sklearn\\metrics\\_classification.py:1318: UndefinedMetricWarning: Precision and F-score are ill-defined and being set to 0.0 in labels with no predicted samples. Use `zero_division` parameter to control this behavior.\n",
      "  _warn_prf(average, modifier, msg_start, len(result))\n",
      "D:\\Program\\miniconda3\\lib\\site-packages\\sklearn\\metrics\\_classification.py:1318: UndefinedMetricWarning: Precision and F-score are ill-defined and being set to 0.0 in labels with no predicted samples. Use `zero_division` parameter to control this behavior.\n",
      "  _warn_prf(average, modifier, msg_start, len(result))\n"
     ]
    },
    {
     "name": "stdout",
     "output_type": "stream",
     "text": [
      "portion 0.02: (504, 48) (504,)\n",
      "real\n",
      "0.348708350322016\n",
      "training f1: 1.0\n"
     ]
    },
    {
     "name": "stderr",
     "output_type": "stream",
     "text": [
      "D:\\Program\\miniconda3\\lib\\site-packages\\sklearn\\metrics\\_classification.py:1318: UndefinedMetricWarning: Precision and F-score are ill-defined and being set to 0.0 in labels with no predicted samples. Use `zero_division` parameter to control this behavior.\n",
      "  _warn_prf(average, modifier, msg_start, len(result))\n",
      "D:\\Program\\miniconda3\\lib\\site-packages\\sklearn\\metrics\\_classification.py:1318: UndefinedMetricWarning: Precision and F-score are ill-defined and being set to 0.0 in labels with no predicted samples. Use `zero_division` parameter to control this behavior.\n",
      "  _warn_prf(average, modifier, msg_start, len(result))\n",
      "D:\\Program\\miniconda3\\lib\\site-packages\\sklearn\\metrics\\_classification.py:1318: UndefinedMetricWarning: Precision and F-score are ill-defined and being set to 0.0 in labels with no predicted samples. Use `zero_division` parameter to control this behavior.\n",
      "  _warn_prf(average, modifier, msg_start, len(result))\n"
     ]
    },
    {
     "name": "stdout",
     "output_type": "stream",
     "text": [
      "portion 0.02: (508, 48) (508,)\n",
      "real\n",
      "0.3233630509489661\n",
      "training f1: 1.0\n"
     ]
    },
    {
     "name": "stderr",
     "output_type": "stream",
     "text": [
      "D:\\Program\\miniconda3\\lib\\site-packages\\sklearn\\metrics\\_classification.py:1318: UndefinedMetricWarning: Precision and F-score are ill-defined and being set to 0.0 in labels with no predicted samples. Use `zero_division` parameter to control this behavior.\n",
      "  _warn_prf(average, modifier, msg_start, len(result))\n",
      "D:\\Program\\miniconda3\\lib\\site-packages\\sklearn\\metrics\\_classification.py:1318: UndefinedMetricWarning: Precision and F-score are ill-defined and being set to 0.0 in labels with no predicted samples. Use `zero_division` parameter to control this behavior.\n",
      "  _warn_prf(average, modifier, msg_start, len(result))\n",
      "D:\\Program\\miniconda3\\lib\\site-packages\\sklearn\\metrics\\_classification.py:1318: UndefinedMetricWarning: Precision and F-score are ill-defined and being set to 0.0 in labels with no predicted samples. Use `zero_division` parameter to control this behavior.\n",
      "  _warn_prf(average, modifier, msg_start, len(result))\n"
     ]
    },
    {
     "name": "stdout",
     "output_type": "stream",
     "text": [
      "portion 0.02: (505, 48) (505,)\n",
      "real\n",
      "0.091147776274231\n",
      "training f1: 1.0\n"
     ]
    },
    {
     "name": "stderr",
     "output_type": "stream",
     "text": [
      "D:\\Program\\miniconda3\\lib\\site-packages\\sklearn\\metrics\\_classification.py:1318: UndefinedMetricWarning: Precision and F-score are ill-defined and being set to 0.0 in labels with no predicted samples. Use `zero_division` parameter to control this behavior.\n",
      "  _warn_prf(average, modifier, msg_start, len(result))\n",
      "D:\\Program\\miniconda3\\lib\\site-packages\\sklearn\\metrics\\_classification.py:1318: UndefinedMetricWarning: Precision and F-score are ill-defined and being set to 0.0 in labels with no predicted samples. Use `zero_division` parameter to control this behavior.\n",
      "  _warn_prf(average, modifier, msg_start, len(result))\n",
      "D:\\Program\\miniconda3\\lib\\site-packages\\sklearn\\metrics\\_classification.py:1318: UndefinedMetricWarning: Precision and F-score are ill-defined and being set to 0.0 in labels with no predicted samples. Use `zero_division` parameter to control this behavior.\n",
      "  _warn_prf(average, modifier, msg_start, len(result))\n"
     ]
    },
    {
     "name": "stdout",
     "output_type": "stream",
     "text": [
      "portion 0.02: (503, 48) (503,)\n",
      "real\n",
      "0.378532625606766\n",
      "training f1: 1.0\n"
     ]
    },
    {
     "name": "stderr",
     "output_type": "stream",
     "text": [
      "D:\\Program\\miniconda3\\lib\\site-packages\\sklearn\\metrics\\_classification.py:1318: UndefinedMetricWarning: Precision and F-score are ill-defined and being set to 0.0 in labels with no predicted samples. Use `zero_division` parameter to control this behavior.\n",
      "  _warn_prf(average, modifier, msg_start, len(result))\n",
      "D:\\Program\\miniconda3\\lib\\site-packages\\sklearn\\metrics\\_classification.py:1318: UndefinedMetricWarning: Precision and F-score are ill-defined and being set to 0.0 in labels with no predicted samples. Use `zero_division` parameter to control this behavior.\n",
      "  _warn_prf(average, modifier, msg_start, len(result))\n",
      "D:\\Program\\miniconda3\\lib\\site-packages\\sklearn\\metrics\\_classification.py:1318: UndefinedMetricWarning: Precision and F-score are ill-defined and being set to 0.0 in labels with no predicted samples. Use `zero_division` parameter to control this behavior.\n",
      "  _warn_prf(average, modifier, msg_start, len(result))\n"
     ]
    },
    {
     "name": "stdout",
     "output_type": "stream",
     "text": [
      "portion 0.02: (506, 48) (506,)\n",
      "real\n",
      "0.22764175279790969\n",
      "training f1: 1.0\n"
     ]
    },
    {
     "name": "stderr",
     "output_type": "stream",
     "text": [
      "D:\\Program\\miniconda3\\lib\\site-packages\\sklearn\\metrics\\_classification.py:1318: UndefinedMetricWarning: Precision and F-score are ill-defined and being set to 0.0 in labels with no predicted samples. Use `zero_division` parameter to control this behavior.\n",
      "  _warn_prf(average, modifier, msg_start, len(result))\n",
      "D:\\Program\\miniconda3\\lib\\site-packages\\sklearn\\metrics\\_classification.py:1318: UndefinedMetricWarning: Precision and F-score are ill-defined and being set to 0.0 in labels with no predicted samples. Use `zero_division` parameter to control this behavior.\n",
      "  _warn_prf(average, modifier, msg_start, len(result))\n",
      "D:\\Program\\miniconda3\\lib\\site-packages\\sklearn\\metrics\\_classification.py:1318: UndefinedMetricWarning: Precision and F-score are ill-defined and being set to 0.0 in labels with no predicted samples. Use `zero_division` parameter to control this behavior.\n",
      "  _warn_prf(average, modifier, msg_start, len(result))\n"
     ]
    },
    {
     "name": "stdout",
     "output_type": "stream",
     "text": [
      "portion 0.02: (515, 48) (515,)\n",
      "real\n",
      "0.08765079744367345\n",
      "training f1: 1.0\n",
      "[0.4084493846904622, 0.3139623092722971, 0.4702155862814759, 0.3438885959055075, 0.42148508791683476, 0.24078925968225431, 0.28945826224757437, 0.2123223593206849, 0.348708350322016, 0.3233630509489661, 0.091147776274231, 0.378532625606766, 0.22764175279790969, 0.08765079744367345]\n",
      "0.2969725141936181\n"
     ]
    },
    {
     "name": "stderr",
     "output_type": "stream",
     "text": [
      "D:\\Program\\miniconda3\\lib\\site-packages\\sklearn\\metrics\\_classification.py:1318: UndefinedMetricWarning: Precision and F-score are ill-defined and being set to 0.0 in labels with no predicted samples. Use `zero_division` parameter to control this behavior.\n",
      "  _warn_prf(average, modifier, msg_start, len(result))\n",
      "D:\\Program\\miniconda3\\lib\\site-packages\\sklearn\\metrics\\_classification.py:1318: UndefinedMetricWarning: Precision and F-score are ill-defined and being set to 0.0 in labels with no predicted samples. Use `zero_division` parameter to control this behavior.\n",
      "  _warn_prf(average, modifier, msg_start, len(result))\n",
      "D:\\Program\\miniconda3\\lib\\site-packages\\sklearn\\metrics\\_classification.py:1318: UndefinedMetricWarning: Precision and F-score are ill-defined and being set to 0.0 in labels with no predicted samples. Use `zero_division` parameter to control this behavior.\n",
      "  _warn_prf(average, modifier, msg_start, len(result))\n"
     ]
    },
    {
     "name": "stdout",
     "output_type": "stream",
     "text": [
      "portion 1: (4142, 48) (4142,)\n",
      "(12, 14)\n",
      "portion 0.02: (519, 48) (519,)\n",
      "real\n",
      "0.377903451878459\n",
      "training f1: 1.0\n",
      "portion 0.02: (523, 48) (523,)\n",
      "real\n",
      "0.2833014217498088\n",
      "training f1: 1.0\n"
     ]
    },
    {
     "name": "stderr",
     "output_type": "stream",
     "text": [
      "D:\\Program\\miniconda3\\lib\\site-packages\\sklearn\\metrics\\_classification.py:1318: UndefinedMetricWarning: Precision and F-score are ill-defined and being set to 0.0 in labels with no predicted samples. Use `zero_division` parameter to control this behavior.\n",
      "  _warn_prf(average, modifier, msg_start, len(result))\n",
      "D:\\Program\\miniconda3\\lib\\site-packages\\sklearn\\metrics\\_classification.py:1318: UndefinedMetricWarning: Precision and F-score are ill-defined and being set to 0.0 in labels with no predicted samples. Use `zero_division` parameter to control this behavior.\n",
      "  _warn_prf(average, modifier, msg_start, len(result))\n",
      "D:\\Program\\miniconda3\\lib\\site-packages\\sklearn\\metrics\\_classification.py:1318: UndefinedMetricWarning: Precision and F-score are ill-defined and being set to 0.0 in labels with no predicted samples. Use `zero_division` parameter to control this behavior.\n",
      "  _warn_prf(average, modifier, msg_start, len(result))\n"
     ]
    },
    {
     "name": "stdout",
     "output_type": "stream",
     "text": [
      "portion 0.02: (529, 48) (529,)\n",
      "real\n",
      "0.3970447894817868\n",
      "training f1: 1.0\n"
     ]
    },
    {
     "name": "stderr",
     "output_type": "stream",
     "text": [
      "D:\\Program\\miniconda3\\lib\\site-packages\\sklearn\\metrics\\_classification.py:1318: UndefinedMetricWarning: Precision and F-score are ill-defined and being set to 0.0 in labels with no predicted samples. Use `zero_division` parameter to control this behavior.\n",
      "  _warn_prf(average, modifier, msg_start, len(result))\n",
      "D:\\Program\\miniconda3\\lib\\site-packages\\sklearn\\metrics\\_classification.py:1318: UndefinedMetricWarning: Precision and F-score are ill-defined and being set to 0.0 in labels with no predicted samples. Use `zero_division` parameter to control this behavior.\n",
      "  _warn_prf(average, modifier, msg_start, len(result))\n",
      "D:\\Program\\miniconda3\\lib\\site-packages\\sklearn\\metrics\\_classification.py:1318: UndefinedMetricWarning: Precision and F-score are ill-defined and being set to 0.0 in labels with no predicted samples. Use `zero_division` parameter to control this behavior.\n",
      "  _warn_prf(average, modifier, msg_start, len(result))\n"
     ]
    },
    {
     "name": "stdout",
     "output_type": "stream",
     "text": [
      "portion 0.02: (525, 48) (525,)\n",
      "real\n",
      "0.3348405497404239\n",
      "training f1: 1.0\n"
     ]
    },
    {
     "name": "stderr",
     "output_type": "stream",
     "text": [
      "D:\\Program\\miniconda3\\lib\\site-packages\\sklearn\\metrics\\_classification.py:1318: UndefinedMetricWarning: Precision and F-score are ill-defined and being set to 0.0 in labels with no predicted samples. Use `zero_division` parameter to control this behavior.\n",
      "  _warn_prf(average, modifier, msg_start, len(result))\n",
      "D:\\Program\\miniconda3\\lib\\site-packages\\sklearn\\metrics\\_classification.py:1318: UndefinedMetricWarning: Precision and F-score are ill-defined and being set to 0.0 in labels with no predicted samples. Use `zero_division` parameter to control this behavior.\n",
      "  _warn_prf(average, modifier, msg_start, len(result))\n",
      "D:\\Program\\miniconda3\\lib\\site-packages\\sklearn\\metrics\\_classification.py:1318: UndefinedMetricWarning: Precision and F-score are ill-defined and being set to 0.0 in labels with no predicted samples. Use `zero_division` parameter to control this behavior.\n",
      "  _warn_prf(average, modifier, msg_start, len(result))\n"
     ]
    },
    {
     "name": "stdout",
     "output_type": "stream",
     "text": [
      "portion 0.02: (529, 48) (529,)\n",
      "real\n",
      "0.42371567890791506\n",
      "training f1: 1.0\n",
      "portion 0.02: (524, 48) (524,)\n",
      "real\n",
      "0.23644529927638436\n",
      "training f1: 1.0\n",
      "portion 0.02: (530, 48) (530,)\n",
      "real\n",
      "0.2938527841553031\n",
      "training f1: 1.0\n",
      "portion 0.02: (517, 48) (517,)\n",
      "real\n",
      "0.22632685214550866\n",
      "training f1: 1.0\n"
     ]
    },
    {
     "name": "stderr",
     "output_type": "stream",
     "text": [
      "D:\\Program\\miniconda3\\lib\\site-packages\\sklearn\\metrics\\_classification.py:1318: UndefinedMetricWarning: Precision and F-score are ill-defined and being set to 0.0 in labels with no predicted samples. Use `zero_division` parameter to control this behavior.\n",
      "  _warn_prf(average, modifier, msg_start, len(result))\n",
      "D:\\Program\\miniconda3\\lib\\site-packages\\sklearn\\metrics\\_classification.py:1318: UndefinedMetricWarning: Precision and F-score are ill-defined and being set to 0.0 in labels with no predicted samples. Use `zero_division` parameter to control this behavior.\n",
      "  _warn_prf(average, modifier, msg_start, len(result))\n",
      "D:\\Program\\miniconda3\\lib\\site-packages\\sklearn\\metrics\\_classification.py:1318: UndefinedMetricWarning: Precision and F-score are ill-defined and being set to 0.0 in labels with no predicted samples. Use `zero_division` parameter to control this behavior.\n",
      "  _warn_prf(average, modifier, msg_start, len(result))\n"
     ]
    },
    {
     "name": "stdout",
     "output_type": "stream",
     "text": [
      "portion 0.02: (504, 48) (504,)\n",
      "real\n",
      "0.27188265974025105\n",
      "training f1: 1.0\n"
     ]
    },
    {
     "name": "stderr",
     "output_type": "stream",
     "text": [
      "D:\\Program\\miniconda3\\lib\\site-packages\\sklearn\\metrics\\_classification.py:1318: UndefinedMetricWarning: Precision and F-score are ill-defined and being set to 0.0 in labels with no predicted samples. Use `zero_division` parameter to control this behavior.\n",
      "  _warn_prf(average, modifier, msg_start, len(result))\n",
      "D:\\Program\\miniconda3\\lib\\site-packages\\sklearn\\metrics\\_classification.py:1318: UndefinedMetricWarning: Precision and F-score are ill-defined and being set to 0.0 in labels with no predicted samples. Use `zero_division` parameter to control this behavior.\n",
      "  _warn_prf(average, modifier, msg_start, len(result))\n",
      "D:\\Program\\miniconda3\\lib\\site-packages\\sklearn\\metrics\\_classification.py:1318: UndefinedMetricWarning: Precision and F-score are ill-defined and being set to 0.0 in labels with no predicted samples. Use `zero_division` parameter to control this behavior.\n",
      "  _warn_prf(average, modifier, msg_start, len(result))\n"
     ]
    },
    {
     "name": "stdout",
     "output_type": "stream",
     "text": [
      "portion 0.02: (508, 48) (508,)\n",
      "real\n",
      "0.29736645862628835\n",
      "training f1: 1.0\n"
     ]
    },
    {
     "name": "stderr",
     "output_type": "stream",
     "text": [
      "D:\\Program\\miniconda3\\lib\\site-packages\\sklearn\\metrics\\_classification.py:1318: UndefinedMetricWarning: Precision and F-score are ill-defined and being set to 0.0 in labels with no predicted samples. Use `zero_division` parameter to control this behavior.\n",
      "  _warn_prf(average, modifier, msg_start, len(result))\n",
      "D:\\Program\\miniconda3\\lib\\site-packages\\sklearn\\metrics\\_classification.py:1318: UndefinedMetricWarning: Precision and F-score are ill-defined and being set to 0.0 in labels with no predicted samples. Use `zero_division` parameter to control this behavior.\n",
      "  _warn_prf(average, modifier, msg_start, len(result))\n",
      "D:\\Program\\miniconda3\\lib\\site-packages\\sklearn\\metrics\\_classification.py:1318: UndefinedMetricWarning: Precision and F-score are ill-defined and being set to 0.0 in labels with no predicted samples. Use `zero_division` parameter to control this behavior.\n",
      "  _warn_prf(average, modifier, msg_start, len(result))\n"
     ]
    },
    {
     "name": "stdout",
     "output_type": "stream",
     "text": [
      "portion 0.02: (505, 48) (505,)\n",
      "real\n",
      "0.15300472062294446\n",
      "training f1: 1.0\n"
     ]
    },
    {
     "name": "stderr",
     "output_type": "stream",
     "text": [
      "D:\\Program\\miniconda3\\lib\\site-packages\\sklearn\\metrics\\_classification.py:1318: UndefinedMetricWarning: Precision and F-score are ill-defined and being set to 0.0 in labels with no predicted samples. Use `zero_division` parameter to control this behavior.\n",
      "  _warn_prf(average, modifier, msg_start, len(result))\n",
      "D:\\Program\\miniconda3\\lib\\site-packages\\sklearn\\metrics\\_classification.py:1318: UndefinedMetricWarning: Precision and F-score are ill-defined and being set to 0.0 in labels with no predicted samples. Use `zero_division` parameter to control this behavior.\n",
      "  _warn_prf(average, modifier, msg_start, len(result))\n",
      "D:\\Program\\miniconda3\\lib\\site-packages\\sklearn\\metrics\\_classification.py:1318: UndefinedMetricWarning: Precision and F-score are ill-defined and being set to 0.0 in labels with no predicted samples. Use `zero_division` parameter to control this behavior.\n",
      "  _warn_prf(average, modifier, msg_start, len(result))\n"
     ]
    },
    {
     "name": "stdout",
     "output_type": "stream",
     "text": [
      "portion 0.02: (503, 48) (503,)\n",
      "real\n",
      "0.3065360472966637\n",
      "training f1: 1.0\n"
     ]
    },
    {
     "name": "stderr",
     "output_type": "stream",
     "text": [
      "D:\\Program\\miniconda3\\lib\\site-packages\\sklearn\\metrics\\_classification.py:1318: UndefinedMetricWarning: Precision and F-score are ill-defined and being set to 0.0 in labels with no predicted samples. Use `zero_division` parameter to control this behavior.\n",
      "  _warn_prf(average, modifier, msg_start, len(result))\n",
      "D:\\Program\\miniconda3\\lib\\site-packages\\sklearn\\metrics\\_classification.py:1318: UndefinedMetricWarning: Precision and F-score are ill-defined and being set to 0.0 in labels with no predicted samples. Use `zero_division` parameter to control this behavior.\n",
      "  _warn_prf(average, modifier, msg_start, len(result))\n",
      "D:\\Program\\miniconda3\\lib\\site-packages\\sklearn\\metrics\\_classification.py:1318: UndefinedMetricWarning: Precision and F-score are ill-defined and being set to 0.0 in labels with no predicted samples. Use `zero_division` parameter to control this behavior.\n",
      "  _warn_prf(average, modifier, msg_start, len(result))\n"
     ]
    },
    {
     "name": "stdout",
     "output_type": "stream",
     "text": [
      "portion 0.02: (506, 48) (506,)\n",
      "real\n",
      "0.20552442297589946\n",
      "training f1: 1.0\n"
     ]
    },
    {
     "name": "stderr",
     "output_type": "stream",
     "text": [
      "D:\\Program\\miniconda3\\lib\\site-packages\\sklearn\\metrics\\_classification.py:1318: UndefinedMetricWarning: Precision and F-score are ill-defined and being set to 0.0 in labels with no predicted samples. Use `zero_division` parameter to control this behavior.\n",
      "  _warn_prf(average, modifier, msg_start, len(result))\n",
      "D:\\Program\\miniconda3\\lib\\site-packages\\sklearn\\metrics\\_classification.py:1318: UndefinedMetricWarning: Precision and F-score are ill-defined and being set to 0.0 in labels with no predicted samples. Use `zero_division` parameter to control this behavior.\n",
      "  _warn_prf(average, modifier, msg_start, len(result))\n",
      "D:\\Program\\miniconda3\\lib\\site-packages\\sklearn\\metrics\\_classification.py:1318: UndefinedMetricWarning: Precision and F-score are ill-defined and being set to 0.0 in labels with no predicted samples. Use `zero_division` parameter to control this behavior.\n",
      "  _warn_prf(average, modifier, msg_start, len(result))\n"
     ]
    },
    {
     "name": "stdout",
     "output_type": "stream",
     "text": [
      "portion 0.02: (515, 48) (515,)\n",
      "real\n",
      "0.02157126123815037\n",
      "training f1: 1.0\n",
      "[0.377903451878459, 0.2833014217498088, 0.3970447894817868, 0.3348405497404239, 0.42371567890791506, 0.23644529927638436, 0.2938527841553031, 0.22632685214550866, 0.27188265974025105, 0.29736645862628835, 0.15300472062294446, 0.3065360472966637, 0.20552442297589946, 0.02157126123815037]\n",
      "0.2735225998454134\n",
      "(12, 42)\n",
      "0.2839935055224832\n",
      "[0.39507336 0.30603025 0.41922806 0.33202171 0.41415073 0.22460468\n",
      " 0.29825203 0.2129017  0.31309678 0.29176416 0.13889941 0.36084712\n",
      " 0.21986049 0.04917858]\n"
     ]
    },
    {
     "name": "stderr",
     "output_type": "stream",
     "text": [
      "D:\\Program\\miniconda3\\lib\\site-packages\\sklearn\\metrics\\_classification.py:1318: UndefinedMetricWarning: Precision and F-score are ill-defined and being set to 0.0 in labels with no predicted samples. Use `zero_division` parameter to control this behavior.\n",
      "  _warn_prf(average, modifier, msg_start, len(result))\n",
      "D:\\Program\\miniconda3\\lib\\site-packages\\sklearn\\metrics\\_classification.py:1318: UndefinedMetricWarning: Precision and F-score are ill-defined and being set to 0.0 in labels with no predicted samples. Use `zero_division` parameter to control this behavior.\n",
      "  _warn_prf(average, modifier, msg_start, len(result))\n",
      "D:\\Program\\miniconda3\\lib\\site-packages\\sklearn\\metrics\\_classification.py:1318: UndefinedMetricWarning: Precision and F-score are ill-defined and being set to 0.0 in labels with no predicted samples. Use `zero_division` parameter to control this behavior.\n",
      "  _warn_prf(average, modifier, msg_start, len(result))\n"
     ]
    },
    {
     "name": "stdout",
     "output_type": "stream",
     "text": [
      "portion 1: (4142, 48) (4142,)\n",
      "(12, 14)\n",
      "portion 0.02: (519, 48) (519,)\n",
      "real+vir\n",
      "0.49082075965840183\n",
      "training f1: 0.9997887567168134\n",
      "portion 0.02: (523, 48) (523,)\n",
      "real+vir\n",
      "0.4753391929217187\n",
      "training f1: 0.9997629586531204\n",
      "portion 0.02: (529, 48) (529,)\n",
      "real+vir\n",
      "0.5979681658571266\n",
      "training f1: 1.0\n",
      "portion 0.02: (525, 48) (525,)\n",
      "real+vir\n",
      "0.5315813307343066\n",
      "training f1: 1.0\n",
      "portion 0.02: (529, 48) (529,)\n",
      "real+vir\n",
      "0.48573085720980186\n",
      "training f1: 1.0\n",
      "portion 0.02: (524, 48) (524,)\n",
      "real+vir\n",
      "0.5081645325622571\n",
      "training f1: 1.0\n",
      "portion 0.02: (530, 48) (530,)\n",
      "real+vir\n",
      "0.41630109920109315\n",
      "training f1: 1.0\n",
      "portion 0.02: (517, 48) (517,)\n",
      "real+vir\n"
     ]
    },
    {
     "name": "stderr",
     "output_type": "stream",
     "text": [
      "D:\\Program\\miniconda3\\lib\\site-packages\\sklearn\\metrics\\_classification.py:1318: UndefinedMetricWarning: Precision and F-score are ill-defined and being set to 0.0 in labels with no predicted samples. Use `zero_division` parameter to control this behavior.\n",
      "  _warn_prf(average, modifier, msg_start, len(result))\n",
      "D:\\Program\\miniconda3\\lib\\site-packages\\sklearn\\metrics\\_classification.py:1318: UndefinedMetricWarning: Precision and F-score are ill-defined and being set to 0.0 in labels with no predicted samples. Use `zero_division` parameter to control this behavior.\n",
      "  _warn_prf(average, modifier, msg_start, len(result))\n",
      "D:\\Program\\miniconda3\\lib\\site-packages\\sklearn\\metrics\\_classification.py:1318: UndefinedMetricWarning: Precision and F-score are ill-defined and being set to 0.0 in labels with no predicted samples. Use `zero_division` parameter to control this behavior.\n",
      "  _warn_prf(average, modifier, msg_start, len(result))\n"
     ]
    },
    {
     "name": "stdout",
     "output_type": "stream",
     "text": [
      "0.3572685534628705\n",
      "training f1: 1.0\n",
      "portion 0.02: (504, 48) (504,)\n",
      "real+vir\n",
      "0.4108342877225059\n",
      "training f1: 0.9997882198573889\n",
      "portion 0.02: (508, 48) (508,)\n",
      "real+vir\n",
      "0.4595376053604938\n",
      "training f1: 1.0\n",
      "portion 0.02: (505, 48) (505,)\n",
      "real+vir\n",
      "0.447148201044766\n",
      "training f1: 1.0\n",
      "portion 0.02: (503, 48) (503,)\n",
      "real+vir\n",
      "0.55004982540943\n",
      "training f1: 1.0\n",
      "portion 0.02: (506, 48) (506,)\n",
      "real+vir\n",
      "0.43309036344572177\n",
      "training f1: 1.0\n",
      "portion 0.02: (515, 48) (515,)\n",
      "real+vir\n",
      "0.292348479348383\n",
      "training f1: 0.999795212397952\n",
      "[0.49082075965840183, 0.4753391929217187, 0.5979681658571266, 0.5315813307343066, 0.48573085720980186, 0.5081645325622571, 0.41630109920109315, 0.3572685534628705, 0.4108342877225059, 0.4595376053604938, 0.447148201044766, 0.55004982540943, 0.43309036344572177, 0.292348479348383]\n",
      "0.46115594670991983\n",
      "portion 1: (4142, 48) (4142,)\n",
      "(12, 14)\n",
      "portion 0.02: (519, 48) (519,)\n",
      "real+vir\n",
      "0.5115652608030046\n",
      "training f1: 1.0\n",
      "portion 0.02: (523, 48) (523,)\n",
      "real+vir\n",
      "0.465958772237219\n",
      "training f1: 0.9998059012308779\n",
      "portion 0.02: (529, 48) (529,)\n",
      "real+vir\n",
      "0.5902629511541716\n",
      "training f1: 1.0\n",
      "portion 0.02: (525, 48) (525,)\n",
      "real+vir\n",
      "0.5254528171955374\n",
      "training f1: 0.9997949669299059\n",
      "portion 0.02: (529, 48) (529,)\n",
      "real+vir\n",
      "0.5722631468233705\n",
      "training f1: 1.0\n",
      "portion 0.02: (524, 48) (524,)\n",
      "real+vir\n",
      "0.5453220092672849\n",
      "training f1: 0.9998055215650218\n",
      "portion 0.02: (530, 48) (530,)\n",
      "real+vir\n",
      "0.419365791395178\n",
      "training f1: 1.0\n",
      "portion 0.02: (517, 48) (517,)\n",
      "real+vir\n"
     ]
    },
    {
     "name": "stderr",
     "output_type": "stream",
     "text": [
      "D:\\Program\\miniconda3\\lib\\site-packages\\sklearn\\metrics\\_classification.py:1318: UndefinedMetricWarning: Precision and F-score are ill-defined and being set to 0.0 in labels with no predicted samples. Use `zero_division` parameter to control this behavior.\n",
      "  _warn_prf(average, modifier, msg_start, len(result))\n",
      "D:\\Program\\miniconda3\\lib\\site-packages\\sklearn\\metrics\\_classification.py:1318: UndefinedMetricWarning: Precision and F-score are ill-defined and being set to 0.0 in labels with no predicted samples. Use `zero_division` parameter to control this behavior.\n",
      "  _warn_prf(average, modifier, msg_start, len(result))\n",
      "D:\\Program\\miniconda3\\lib\\site-packages\\sklearn\\metrics\\_classification.py:1318: UndefinedMetricWarning: Precision and F-score are ill-defined and being set to 0.0 in labels with no predicted samples. Use `zero_division` parameter to control this behavior.\n",
      "  _warn_prf(average, modifier, msg_start, len(result))\n"
     ]
    },
    {
     "name": "stdout",
     "output_type": "stream",
     "text": [
      "0.33078687684777924\n",
      "training f1: 1.0\n",
      "portion 0.02: (504, 48) (504,)\n",
      "real+vir\n",
      "0.45819256784091844\n",
      "training f1: 1.0\n",
      "portion 0.02: (508, 48) (508,)\n",
      "real+vir\n",
      "0.4912161317380053\n",
      "training f1: 0.999809371207236\n",
      "portion 0.02: (505, 48) (505,)\n",
      "real+vir\n",
      "0.3664791746626457\n",
      "training f1: 1.0\n",
      "portion 0.02: (503, 48) (503,)\n",
      "real+vir\n",
      "0.5276308271416817\n",
      "training f1: 1.0\n",
      "portion 0.02: (506, 48) (506,)\n",
      "real+vir\n",
      "0.43034736929118006\n",
      "training f1: 0.9997887607888621\n",
      "portion 0.02: (515, 48) (515,)\n",
      "real+vir\n",
      "0.31597702184065546\n",
      "training f1: 0.9997899527665003\n",
      "[0.5115652608030046, 0.465958772237219, 0.5902629511541716, 0.5254528171955374, 0.5722631468233705, 0.5453220092672849, 0.419365791395178, 0.33078687684777924, 0.45819256784091844, 0.4912161317380053, 0.3664791746626457, 0.5276308271416817, 0.43034736929118006, 0.31597702184065546]\n",
      "0.46791576558847375\n",
      "portion 1: (4142, 48) (4142,)\n",
      "(12, 14)\n",
      "portion 0.02: (519, 48) (519,)\n",
      "real+vir\n",
      "0.5559251028597245\n",
      "training f1: 1.0\n",
      "portion 0.02: (523, 48) (523,)\n",
      "real+vir\n",
      "0.4670452977923983\n",
      "training f1: 1.0\n",
      "portion 0.02: (529, 48) (529,)\n",
      "real+vir\n",
      "0.6302849257014564\n",
      "training f1: 1.0\n",
      "portion 0.02: (525, 48) (525,)\n",
      "real+vir\n",
      "0.5117714244046391\n",
      "training f1: 1.0\n",
      "portion 0.02: (529, 48) (529,)\n",
      "real+vir\n",
      "0.4807118084116317\n",
      "training f1: 1.0\n",
      "portion 0.02: (524, 48) (524,)\n",
      "real+vir\n",
      "0.4591650163146128\n",
      "training f1: 1.0\n",
      "portion 0.02: (530, 48) (530,)\n",
      "real+vir\n",
      "0.40665755149981125\n",
      "training f1: 1.0\n",
      "portion 0.02: (517, 48) (517,)\n",
      "real+vir\n"
     ]
    },
    {
     "name": "stderr",
     "output_type": "stream",
     "text": [
      "D:\\Program\\miniconda3\\lib\\site-packages\\sklearn\\metrics\\_classification.py:1318: UndefinedMetricWarning: Precision and F-score are ill-defined and being set to 0.0 in labels with no predicted samples. Use `zero_division` parameter to control this behavior.\n",
      "  _warn_prf(average, modifier, msg_start, len(result))\n",
      "D:\\Program\\miniconda3\\lib\\site-packages\\sklearn\\metrics\\_classification.py:1318: UndefinedMetricWarning: Precision and F-score are ill-defined and being set to 0.0 in labels with no predicted samples. Use `zero_division` parameter to control this behavior.\n",
      "  _warn_prf(average, modifier, msg_start, len(result))\n",
      "D:\\Program\\miniconda3\\lib\\site-packages\\sklearn\\metrics\\_classification.py:1318: UndefinedMetricWarning: Precision and F-score are ill-defined and being set to 0.0 in labels with no predicted samples. Use `zero_division` parameter to control this behavior.\n",
      "  _warn_prf(average, modifier, msg_start, len(result))\n"
     ]
    },
    {
     "name": "stdout",
     "output_type": "stream",
     "text": [
      "0.3257868727864736\n",
      "training f1: 0.9997954702302527\n",
      "portion 0.02: (504, 48) (504,)\n",
      "real+vir\n",
      "0.46457662760575175\n",
      "training f1: 0.999760720379277\n",
      "portion 0.02: (508, 48) (508,)\n",
      "real+vir\n",
      "0.4990883196338079\n",
      "training f1: 1.0\n",
      "portion 0.02: (505, 48) (505,)\n",
      "real+vir\n",
      "0.4111800998228065\n",
      "training f1: 1.0\n",
      "portion 0.02: (503, 48) (503,)\n",
      "real+vir\n",
      "0.5402478558185123\n",
      "training f1: 1.0\n",
      "portion 0.02: (506, 48) (506,)\n",
      "real+vir\n",
      "0.4370274446714964\n",
      "training f1: 1.0\n",
      "portion 0.02: (515, 48) (515,)\n",
      "real+vir\n",
      "0.3655465290300837\n",
      "training f1: 1.0\n",
      "[0.5559251028597245, 0.4670452977923983, 0.6302849257014564, 0.5117714244046391, 0.4807118084116317, 0.4591650163146128, 0.40665755149981125, 0.3257868727864736, 0.46457662760575175, 0.4990883196338079, 0.4111800998228065, 0.5402478558185123, 0.4370274446714964, 0.3655465290300837]\n",
      "0.46821534831094336\n",
      "0.4657623535364457\n",
      "[0.51943704 0.46944775 0.60617201 0.52293519 0.51290194 0.50421719\n",
      " 0.41410815 0.33794743 0.44453449 0.48328069 0.40826916 0.5393095\n",
      " 0.43348839 0.32462401]\n"
     ]
    }
   ],
   "source": [
    "# run leave one out experiment but with subsets of proportions of real data \n",
    "result_dir = 'recognition_result/usc-had_50/vary_real'\n",
    "os.makedirs(result_dir, exist_ok = True)\n",
    "    \n",
    "total_folds = len(y_real)\n",
    "portion_val = [0.6]\n",
    "num_trials = 3\n",
    "proportion = 1\n",
    "prop_vir = 1\n",
    "frame_size_seconds = 2\n",
    "step_size_seconds = 1\n",
    "print(total_folds)\n",
    "\n",
    "# real_proportions = [0.001, 0.005, 0.01, 0.05, 0.1, 0.2, 0.3, 0.4, 0.5, 0.6, 0.7, 0.8, 0.9, 1]\n",
    "real_proportions = [0.02]\n",
    "\n",
    "for prop in real_proportions:\n",
    "    #mixed\n",
    "#     save = f'{result_dir}/virtual_{loc}_{prop}_per_class{ik_mode}{noise_mode}{model_mode}.npy'\n",
    "    if os.path.exists(save):\n",
    "        print(f'{save} exists')\n",
    "        continue\n",
    "    \n",
    "    list_f1 = []\n",
    "    result_all_vir = np.zeros((num_trials,total_folds))\n",
    "    f1_per_class = None\n",
    "\n",
    "    for i in range(num_trials):\n",
    "        result_all_vir[i], f1_trial= rf(X_vir, y_vir, X_real, y_real, save, prop, prop_vir, 'real', model_mode,\n",
    "                                        frame_size_seconds, step_size_seconds)\n",
    "        list_f1.append(np.mean(result_all_vir[i]))\n",
    "\n",
    "        if f1_per_class is None:\n",
    "            f1_per_class = f1_trial\n",
    "        else:\n",
    "            f1_per_class = np.hstack((f1_per_class, f1_trial))\n",
    "\n",
    "    print(f1_per_class.shape)\n",
    "    print(np.mean(np.array(list_f1)))\n",
    "    print(np.mean(result_all_vir, axis =0))\n",
    "    np.save(f'{result_dir}/real_{loc}_{prop}_per_class{model_mode}.npy', f1_per_class)\n",
    "\n",
    "    list_f1 = []\n",
    "    result_all_vir = np.zeros((num_trials,total_folds))\n",
    "    f1_per_class = None\n",
    "    save = \"\"\n",
    "    for i in range(num_trials):\n",
    "        result_all_vir[i], f1_trial= rf(X_vir, y_vir, X_real, y_real, save, prop, prop_vir, 'real+vir',model_mode,\n",
    "                                       frame_size_seconds, step_size_seconds)\n",
    "        list_f1.append(np.mean(result_all_vir[i]))\n",
    "\n",
    "        if f1_per_class is None:\n",
    "            f1_per_class = f1_trial\n",
    "        else:\n",
    "            f1_per_class = np.hstack((f1_per_class, f1_trial))\n",
    "\n",
    "    print(np.mean(np.array(list_f1)))\n",
    "    print(np.mean(result_all_vir, axis =0))\n",
    "    np.save(f'{result_dir}/mixed_{loc}_{prop}_per_class{ik_mode}{noise_mode}{model_mode}.npy', f1_per_class)"
   ]
  },
  {
   "cell_type": "code",
   "execution_count": 44,
   "id": "a57336eb",
   "metadata": {
    "collapsed": true
   },
   "outputs": [
    {
     "name": "stdout",
     "output_type": "stream",
     "text": [
      "real_wrist_0.1: 0.44371222622855644 +- 0.004000585547892102\n",
      "\n",
      "virtual_wrist_0.1: 0.5729824020594033 +- 0.0029933088095705834\n",
      "\n",
      "mixed_wrist_0.1: 0.5885694412303891 +- 0.004570209070019517\n",
      "\n",
      "real_wrist_1: 0.612805732214365 +- 0.006077514192361513\n",
      "\n",
      "virtual_wrist_1: 0.5752004731832613 +- 0.00940299957654236\n",
      "\n",
      "mixed_wrist_1: 0.623680829551123 +- 0.00579877070056614\n",
      "\n",
      "real_all_loc_0.1: 0.4813624535386182 +- 0.008488684889517475\n",
      "\n",
      "virtual_all_loc_0.1: 0.7522699404474195 +- 0.0032712580032467197\n",
      "\n",
      "mixed_all_loc_0.1: 0.7756634781198112 +- 0.007597475768053443\n",
      "\n",
      "real_all_loc_1: 0.7152858129431194 +- 0.010669841295236496\n",
      "\n",
      "virtual_all_loc_1: 0.7568780661809273 +- 0.011224521510962808\n",
      "\n",
      "mixed_all_loc_1: 0.7690427772509687 +- 0.0040594283401381775\n",
      "\n"
     ]
    }
   ],
   "source": [
    "#calculate macro f1 \n",
    "locations = ['wrist', 'all_loc']\n",
    "data = ['real','virtual', 'mixed']\n",
    "proportion = [ '0.1', '1']\n",
    "\n",
    "for loc in locations:\n",
    "    for pro in proportion:\n",
    "        for d in data:\n",
    "        \n",
    "            f1_per_cls = np.load(f'recognition_result/{d}_{loc}_{pro}_per_class.npy')\n",
    "            mean = np.mean(f1_per_cls)\n",
    "            per_f1 = np.mean(f1_per_cls, axis= 0).reshape(3,15)\n",
    "            trial_f1 = np.mean(per_f1, axis= 1)\n",
    "#             print(per_f1.shape)\n",
    "#             print(trial_f1)\n",
    "#             print(np.std(trial_f1))\n",
    "#             print(np.std(per_f1))\n",
    "#             print(f1_per_cls.shape)\n",
    "            print(f'{d}_{loc}_{pro}: {mean} +- {np.std(trial_f1)}')\n",
    "            print()\n",
    "    "
   ]
  },
  {
   "cell_type": "code",
   "execution_count": 40,
   "id": "797e5eaa",
   "metadata": {},
   "outputs": [
    {
     "name": "stdout",
     "output_type": "stream",
     "text": [
      "wrist_0.1\n",
      "[ 0.08716264 -0.00130937  0.07347297  0.44749787  0.08634731  0.13806735\n",
      "  0.18539668  0.14222226]\n",
      "wrist_1\n",
      "[ 0.0001181   0.01444382 -0.00340543  0.01711734 -0.00671653  0.03656803\n",
      "  0.01145665  0.01741879]\n",
      "all_loc_0.1\n",
      "[0.45582651 0.1675652  0.18412023 0.12032266 0.1289279  0.32542449\n",
      " 0.49556113 0.47666008]\n",
      "all_loc_1\n",
      "[0.0263525  0.02866955 0.04480148 0.06440886 0.06548793 0.10896529\n",
      " 0.05804619 0.03332392]\n"
     ]
    }
   ],
   "source": [
    "#calculate f1 per class change\n",
    "locations = ['wrist', 'all_loc']\n",
    "data = ['real','virtual', 'mixed']\n",
    "proportion = [ '0.1', '1']\n",
    "activities = ['climb down stairs', 'climb up stairs', 'jumping', 'lying', 'running', 'sitting', 'standing' , 'walking' ]\n",
    "for loc in locations:\n",
    "    for pro in proportion:\n",
    "        \n",
    "            real_f1_per_cls = np.load(f'recognition_result/real_{loc}_{pro}_per_class.npy')\n",
    "            mixed_f1_per_cls = np.load(f'recognition_result/mixed_{loc}_{pro}_per_class.npy')\n",
    "            change_f1_per_cls = mixed_f1_per_cls - real_f1_per_cls\n",
    "            class_f1_change = np.mean(change_f1_per_cls, axis= 1)\n",
    "#             trial_f1 = np.mean(per_f1, axis= 1)\n",
    "            print(f'{loc}_{pro}')\n",
    "            print(class_f1_change)\n",
    "#             print(trial_f1)\n",
    "#             print(np.std(trial_f1))\n",
    "#             print(np.std(per_f1))\n",
    "#             print(f1_per_cls.shape)\n",
    "#             print(f'{loc}_{pro}: {mean} +- {np.std(trial_f1)}')\n",
    "#             print()\n",
    "    "
   ]
  },
  {
   "cell_type": "code",
   "execution_count": null,
   "id": "3181a521",
   "metadata": {},
   "outputs": [],
   "source": []
  }
 ],
 "metadata": {
  "kernelspec": {
   "display_name": "Python 3 (ipykernel)",
   "language": "python",
   "name": "python3"
  },
  "language_info": {
   "codemirror_mode": {
    "name": "ipython",
    "version": 3
   },
   "file_extension": ".py",
   "mimetype": "text/x-python",
   "name": "python",
   "nbconvert_exporter": "python",
   "pygments_lexer": "ipython3",
   "version": "3.9.12"
  }
 },
 "nbformat": 4,
 "nbformat_minor": 5
}
